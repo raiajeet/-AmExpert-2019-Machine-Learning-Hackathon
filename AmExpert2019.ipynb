{
  "nbformat": 4,
  "nbformat_minor": 0,
  "metadata": {
    "colab": {
      "name": "AmExpert2019",
      "provenance": [],
      "collapsed_sections": [],
      "toc_visible": true,
      "machine_shape": "hm"
    },
    "kernelspec": {
      "name": "python3",
      "display_name": "Python 3"
    }
  },
  "cells": [
    {
      "cell_type": "code",
      "metadata": {
        "id": "3hDdHVe3hJiX",
        "colab_type": "code",
        "colab": {}
      },
      "source": [
        "import pandas as pd\n",
        "import numpy as np\n",
        "from sklearn.preprocessing import LabelEncoder"
      ],
      "execution_count": 0,
      "outputs": []
    },
    {
      "cell_type": "code",
      "metadata": {
        "id": "mrAx2jeaiNBW",
        "colab_type": "code",
        "outputId": "102edc76-4613-47e6-afe4-4709d51f99a9",
        "colab": {
          "base_uri": "https://localhost:8080/",
          "height": 124
        }
      },
      "source": [
        "from google.colab import drive\n",
        "drive.mount('/content/drive')"
      ],
      "execution_count": 0,
      "outputs": [
        {
          "output_type": "stream",
          "text": [
            "Go to this URL in a browser: https://accounts.google.com/o/oauth2/auth?client_id=947318989803-6bn6qk8qdgf4n4g3pfee6491hc0brc4i.apps.googleusercontent.com&redirect_uri=urn%3Aietf%3Awg%3Aoauth%3A2.0%3Aoob&scope=email%20https%3A%2F%2Fwww.googleapis.com%2Fauth%2Fdocs.test%20https%3A%2F%2Fwww.googleapis.com%2Fauth%2Fdrive%20https%3A%2F%2Fwww.googleapis.com%2Fauth%2Fdrive.photos.readonly%20https%3A%2F%2Fwww.googleapis.com%2Fauth%2Fpeopleapi.readonly&response_type=code\n",
            "\n",
            "Enter your authorization code:\n",
            "··········\n",
            "Mounted at /content/drive\n"
          ],
          "name": "stdout"
        }
      ]
    },
    {
      "cell_type": "markdown",
      "metadata": {
        "id": "XOTboTI3XvjO",
        "colab_type": "text"
      },
      "source": [
        "## Getting Data"
      ]
    },
    {
      "cell_type": "code",
      "metadata": {
        "id": "A16GtMU1ie_F",
        "colab_type": "code",
        "colab": {}
      },
      "source": [
        "train=pd.read_csv(\"/content/drive/My Drive/My Colab/AmExpert2019/train_AUpWtIz/train.csv\")\n",
        "item_data=pd.read_csv(\"/content/drive/My Drive/My Colab/AmExpert2019/train_AUpWtIz/item_data.csv\")\n",
        "customer_transaction_data=pd.read_csv(\"/content/drive/My Drive/My Colab/AmExpert2019/train_AUpWtIz/customer_transaction_data.csv\")\n",
        "customer_demographics=pd.read_csv(\"/content/drive/My Drive/My Colab/AmExpert2019/train_AUpWtIz/customer_demographics.csv\")\n",
        "coupon_item_mapping=pd.read_csv(\"/content/drive/My Drive/My Colab/AmExpert2019/train_AUpWtIz/coupon_item_mapping.csv\")\n",
        "campaign_data=pd.read_csv(\"/content/drive/My Drive/My Colab/AmExpert2019/train_AUpWtIz/campaign_data.csv\")\n",
        "test=pd.read_csv(\"/content/drive/My Drive/My Colab/AmExpert2019/test_QyjYwdj.csv\")"
      ],
      "execution_count": 0,
      "outputs": []
    },
    {
      "cell_type": "code",
      "metadata": {
        "id": "dfAnGi8wzwRe",
        "colab_type": "code",
        "outputId": "00e0da91-ada1-4f6a-b28e-98c0090d6eff",
        "colab": {
          "base_uri": "https://localhost:8080/",
          "height": 204
        }
      },
      "source": [
        "test.head()"
      ],
      "execution_count": 0,
      "outputs": [
        {
          "output_type": "execute_result",
          "data": {
            "text/html": [
              "<div>\n",
              "<style scoped>\n",
              "    .dataframe tbody tr th:only-of-type {\n",
              "        vertical-align: middle;\n",
              "    }\n",
              "\n",
              "    .dataframe tbody tr th {\n",
              "        vertical-align: top;\n",
              "    }\n",
              "\n",
              "    .dataframe thead th {\n",
              "        text-align: right;\n",
              "    }\n",
              "</style>\n",
              "<table border=\"1\" class=\"dataframe\">\n",
              "  <thead>\n",
              "    <tr style=\"text-align: right;\">\n",
              "      <th></th>\n",
              "      <th>id</th>\n",
              "      <th>campaign_id</th>\n",
              "      <th>coupon_id</th>\n",
              "      <th>customer_id</th>\n",
              "    </tr>\n",
              "  </thead>\n",
              "  <tbody>\n",
              "    <tr>\n",
              "      <th>0</th>\n",
              "      <td>3</td>\n",
              "      <td>22</td>\n",
              "      <td>869</td>\n",
              "      <td>967</td>\n",
              "    </tr>\n",
              "    <tr>\n",
              "      <th>1</th>\n",
              "      <td>4</td>\n",
              "      <td>20</td>\n",
              "      <td>389</td>\n",
              "      <td>1566</td>\n",
              "    </tr>\n",
              "    <tr>\n",
              "      <th>2</th>\n",
              "      <td>5</td>\n",
              "      <td>22</td>\n",
              "      <td>981</td>\n",
              "      <td>510</td>\n",
              "    </tr>\n",
              "    <tr>\n",
              "      <th>3</th>\n",
              "      <td>8</td>\n",
              "      <td>25</td>\n",
              "      <td>1069</td>\n",
              "      <td>361</td>\n",
              "    </tr>\n",
              "    <tr>\n",
              "      <th>4</th>\n",
              "      <td>10</td>\n",
              "      <td>17</td>\n",
              "      <td>498</td>\n",
              "      <td>811</td>\n",
              "    </tr>\n",
              "  </tbody>\n",
              "</table>\n",
              "</div>"
            ],
            "text/plain": [
              "   id  campaign_id  coupon_id  customer_id\n",
              "0   3           22        869          967\n",
              "1   4           20        389         1566\n",
              "2   5           22        981          510\n",
              "3   8           25       1069          361\n",
              "4  10           17        498          811"
            ]
          },
          "metadata": {
            "tags": []
          },
          "execution_count": 4
        }
      ]
    },
    {
      "cell_type": "code",
      "metadata": {
        "id": "bISYvr4jjKHd",
        "colab_type": "code",
        "outputId": "f597d34f-1369-4db0-c797-29024ad6dc0c",
        "colab": {
          "base_uri": "https://localhost:8080/",
          "height": 68
        }
      },
      "source": [
        "train[\"redemption_status\"].value_counts()"
      ],
      "execution_count": 0,
      "outputs": [
        {
          "output_type": "execute_result",
          "data": {
            "text/plain": [
              "0    77640\n",
              "1      729\n",
              "Name: redemption_status, dtype: int64"
            ]
          },
          "metadata": {
            "tags": []
          },
          "execution_count": 5
        }
      ]
    },
    {
      "cell_type": "code",
      "metadata": {
        "id": "bQ0j5iP_X2g2",
        "colab_type": "code",
        "outputId": "c345973f-91bc-4ce4-a2a8-1e13ec0f2208",
        "colab": {
          "base_uri": "https://localhost:8080/",
          "height": 51
        }
      },
      "source": [
        "print(\"Train\",train.shape)\n",
        "print(\"Test\",test.shape)"
      ],
      "execution_count": 0,
      "outputs": [
        {
          "output_type": "stream",
          "text": [
            "Train (78369, 5)\n",
            "Test (50226, 4)\n"
          ],
          "name": "stdout"
        }
      ]
    },
    {
      "cell_type": "code",
      "metadata": {
        "id": "_A7D12NhX-0p",
        "colab_type": "code",
        "colab": {}
      },
      "source": [
        "rs= pd.DataFrame(train['redemption_status'])\n",
        "train.drop(['redemption_status'], axis=1, inplace=True)"
      ],
      "execution_count": 0,
      "outputs": []
    },
    {
      "cell_type": "code",
      "metadata": {
        "id": "0WPhFr5nuv0e",
        "colab_type": "code",
        "outputId": "f46c4307-b34a-4c2d-a352-ffd21a7f57a5",
        "colab": {
          "base_uri": "https://localhost:8080/",
          "height": 204
        }
      },
      "source": [
        "rs.head()"
      ],
      "execution_count": 0,
      "outputs": [
        {
          "output_type": "execute_result",
          "data": {
            "text/html": [
              "<div>\n",
              "<style scoped>\n",
              "    .dataframe tbody tr th:only-of-type {\n",
              "        vertical-align: middle;\n",
              "    }\n",
              "\n",
              "    .dataframe tbody tr th {\n",
              "        vertical-align: top;\n",
              "    }\n",
              "\n",
              "    .dataframe thead th {\n",
              "        text-align: right;\n",
              "    }\n",
              "</style>\n",
              "<table border=\"1\" class=\"dataframe\">\n",
              "  <thead>\n",
              "    <tr style=\"text-align: right;\">\n",
              "      <th></th>\n",
              "      <th>redemption_status</th>\n",
              "    </tr>\n",
              "  </thead>\n",
              "  <tbody>\n",
              "    <tr>\n",
              "      <th>0</th>\n",
              "      <td>0</td>\n",
              "    </tr>\n",
              "    <tr>\n",
              "      <th>1</th>\n",
              "      <td>0</td>\n",
              "    </tr>\n",
              "    <tr>\n",
              "      <th>2</th>\n",
              "      <td>0</td>\n",
              "    </tr>\n",
              "    <tr>\n",
              "      <th>3</th>\n",
              "      <td>0</td>\n",
              "    </tr>\n",
              "    <tr>\n",
              "      <th>4</th>\n",
              "      <td>0</td>\n",
              "    </tr>\n",
              "  </tbody>\n",
              "</table>\n",
              "</div>"
            ],
            "text/plain": [
              "   redemption_status\n",
              "0                  0\n",
              "1                  0\n",
              "2                  0\n",
              "3                  0\n",
              "4                  0"
            ]
          },
          "metadata": {
            "tags": []
          },
          "execution_count": 8
        }
      ]
    },
    {
      "cell_type": "code",
      "metadata": {
        "id": "CW3yTFhKvEVK",
        "colab_type": "code",
        "outputId": "18a8664e-3c0f-4d00-b380-b2389fe002b6",
        "colab": {
          "base_uri": "https://localhost:8080/",
          "height": 34
        }
      },
      "source": [
        "rs.shape"
      ],
      "execution_count": 0,
      "outputs": [
        {
          "output_type": "execute_result",
          "data": {
            "text/plain": [
              "(78369, 1)"
            ]
          },
          "metadata": {
            "tags": []
          },
          "execution_count": 64
        }
      ]
    },
    {
      "cell_type": "code",
      "metadata": {
        "id": "JLH5IZnIYIWI",
        "colab_type": "code",
        "colab": {}
      },
      "source": [
        "train['Type']='Train' #Create a flag for Train and Test Data set\n",
        "test['Type']='Test'\n",
        "combi= pd.concat([train,test],axis=0) #Combined both Train and Test Data set"
      ],
      "execution_count": 0,
      "outputs": []
    },
    {
      "cell_type": "code",
      "metadata": {
        "id": "Xq_XXMKSYMwc",
        "colab_type": "code",
        "outputId": "18555473-108d-4ca5-be0d-b208da8aeb50",
        "colab": {
          "base_uri": "https://localhost:8080/",
          "height": 204
        }
      },
      "source": [
        "combi.head()"
      ],
      "execution_count": 0,
      "outputs": [
        {
          "output_type": "execute_result",
          "data": {
            "text/html": [
              "<div>\n",
              "<style scoped>\n",
              "    .dataframe tbody tr th:only-of-type {\n",
              "        vertical-align: middle;\n",
              "    }\n",
              "\n",
              "    .dataframe tbody tr th {\n",
              "        vertical-align: top;\n",
              "    }\n",
              "\n",
              "    .dataframe thead th {\n",
              "        text-align: right;\n",
              "    }\n",
              "</style>\n",
              "<table border=\"1\" class=\"dataframe\">\n",
              "  <thead>\n",
              "    <tr style=\"text-align: right;\">\n",
              "      <th></th>\n",
              "      <th>id</th>\n",
              "      <th>campaign_id</th>\n",
              "      <th>coupon_id</th>\n",
              "      <th>customer_id</th>\n",
              "      <th>Type</th>\n",
              "    </tr>\n",
              "  </thead>\n",
              "  <tbody>\n",
              "    <tr>\n",
              "      <th>0</th>\n",
              "      <td>1</td>\n",
              "      <td>13</td>\n",
              "      <td>27</td>\n",
              "      <td>1053</td>\n",
              "      <td>Train</td>\n",
              "    </tr>\n",
              "    <tr>\n",
              "      <th>1</th>\n",
              "      <td>2</td>\n",
              "      <td>13</td>\n",
              "      <td>116</td>\n",
              "      <td>48</td>\n",
              "      <td>Train</td>\n",
              "    </tr>\n",
              "    <tr>\n",
              "      <th>2</th>\n",
              "      <td>6</td>\n",
              "      <td>9</td>\n",
              "      <td>635</td>\n",
              "      <td>205</td>\n",
              "      <td>Train</td>\n",
              "    </tr>\n",
              "    <tr>\n",
              "      <th>3</th>\n",
              "      <td>7</td>\n",
              "      <td>13</td>\n",
              "      <td>644</td>\n",
              "      <td>1050</td>\n",
              "      <td>Train</td>\n",
              "    </tr>\n",
              "    <tr>\n",
              "      <th>4</th>\n",
              "      <td>9</td>\n",
              "      <td>8</td>\n",
              "      <td>1017</td>\n",
              "      <td>1489</td>\n",
              "      <td>Train</td>\n",
              "    </tr>\n",
              "  </tbody>\n",
              "</table>\n",
              "</div>"
            ],
            "text/plain": [
              "   id  campaign_id  coupon_id  customer_id   Type\n",
              "0   1           13         27         1053  Train\n",
              "1   2           13        116           48  Train\n",
              "2   6            9        635          205  Train\n",
              "3   7           13        644         1050  Train\n",
              "4   9            8       1017         1489  Train"
            ]
          },
          "metadata": {
            "tags": []
          },
          "execution_count": 8
        }
      ]
    },
    {
      "cell_type": "code",
      "metadata": {
        "id": "PyVqzOx4YPXw",
        "colab_type": "code",
        "colab": {}
      },
      "source": [
        "import featuretools as ft\n",
        "# Create new entityset\n",
        "es = ft.EntitySet(id = 'coupon_train')\n",
        "\n",
        "# Create an entity from the client dataframe\n",
        "# This dataframe already has an index and a time index\n",
        "es = es.entity_from_dataframe(entity_id = 'combi', dataframe = combi,index = 'id')\n",
        "es = es.entity_from_dataframe(entity_id = 'campaign_data',dataframe = campaign_data,index = 'campaign_id')\n",
        "es = es.entity_from_dataframe(entity_id = 'customer_demographics',dataframe = customer_demographics,index = 'customer_id')\n",
        "es = es.entity_from_dataframe(entity_id = 'item_data',dataframe = item_data,index = 'item_id')\n",
        "es = es.entity_from_dataframe(entity_id = 'coupon_item_mapping', \n",
        "                              dataframe = coupon_item_mapping,\n",
        "                              index=\"coupon_item_mapping_id\",\n",
        "                              make_index = True)\n",
        "es = es.entity_from_dataframe(entity_id = 'customer_transaction_data', \n",
        "                              dataframe = customer_transaction_data,\n",
        "                              index=\"customer_transaction_data_id\",\n",
        "                              make_index = True)\n",
        "\n",
        "# Relationship between train and previous campaign_data\n",
        "r1 = ft.Relationship(es['campaign_data']['campaign_id'],es['combi']['campaign_id'])\n",
        "# Add the relationship to the entity set\n",
        "es = es.add_relationship(r1)\n",
        "\n",
        "# Relationship between previous loans and previous payments\n",
        "r2 = ft.Relationship(es['customer_demographics']['customer_id'],es['combi']['campaign_id'])\n",
        "# Add the relationship to the entity set\n",
        "es = es.add_relationship(r2)\n",
        "\n",
        "#r3 = ft.Relationship(es['coupon_item_mapping']['coupon_id'],es['combi']['coupon_id'])\n",
        "# Add the relationship to the entity set\n",
        "#es = es.add_relationship(r3)\n",
        "\n",
        "r4 = ft.Relationship(es['item_data']['item_id'], es['coupon_item_mapping']['item_id'])\n",
        "# Add the relationship to the entity set\n",
        "es = es.add_relationship(r4)\n",
        "\n",
        "r5 = ft.Relationship(es['item_data']['item_id'], es['customer_transaction_data']['item_id'])\n",
        "# Add the relationship to the entity set\n",
        "es = es.add_relationship(r5)\n",
        "\n",
        "r6 = ft.Relationship(es['customer_demographics']['customer_id'], es['customer_transaction_data']['customer_id'])\n",
        "# Add the relationship to the entity set\n",
        "es = es.add_relationship(r6)\n",
        "\n",
        "#r7 = ft.Relationship(es['customer_transaction_data']['customer_id'],es['combi']['customer_id'])\n",
        "# Add the relationship to the entity set\n",
        "#es = es.add_relationship(r7)\n",
        "\n",
        "# Create new features using specified primitives\n",
        "#combi, feature_names = ft.dfs(entityset = es, target_entity = 'combi', \n",
        "#                                 agg_primitives = ['mean', 'max', 'percent_true', 'last'],\n",
        " #                                trans_primitives = ['year', 'month','day','week'])\n",
        "#\n",
        "\n",
        "combi, feature_names = ft.dfs(entityset=es, \n",
        "target_entity = 'combi')"
      ],
      "execution_count": 0,
      "outputs": []
    },
    {
      "cell_type": "code",
      "metadata": {
        "id": "ZUCE-3NjYkcQ",
        "colab_type": "code",
        "outputId": "96e4b373-b498-4b5b-b937-34a6d44f374f",
        "colab": {
          "base_uri": "https://localhost:8080/",
          "height": 35
        }
      },
      "source": [
        "combi.shape"
      ],
      "execution_count": 0,
      "outputs": [
        {
          "output_type": "execute_result",
          "data": {
            "text/plain": [
              "(128595, 76)"
            ]
          },
          "metadata": {
            "tags": []
          },
          "execution_count": 7
        }
      ]
    },
    {
      "cell_type": "code",
      "metadata": {
        "id": "y7Gdy9lzcxMi",
        "colab_type": "code",
        "outputId": "b3502eb2-c315-4828-8fa7-91d39e49f3a6",
        "colab": {
          "base_uri": "https://localhost:8080/",
          "height": 156
        }
      },
      "source": [
        "cols = combi.columns\n",
        "num_cols = combi._get_numeric_data().columns\n",
        "list(set(cols) - set(num_cols))"
      ],
      "execution_count": 0,
      "outputs": [
        {
          "output_type": "execute_result",
          "data": {
            "text/plain": [
              "['Type',\n",
              " 'campaign_data.MODE(combi.Type)',\n",
              " 'customer_demographics.no_of_children',\n",
              " 'campaign_data.campaign_type',\n",
              " 'customer_demographics.age_range',\n",
              " 'customer_demographics.MODE(combi.Type)',\n",
              " 'customer_demographics.family_size',\n",
              " 'customer_demographics.marital_status']"
            ]
          },
          "metadata": {
            "tags": []
          },
          "execution_count": 11
        }
      ]
    },
    {
      "cell_type": "code",
      "metadata": {
        "id": "Jie23jZse_n0",
        "colab_type": "code",
        "outputId": "e12da69e-0285-44de-f36d-4ad990fdfd65",
        "colab": {
          "base_uri": "https://localhost:8080/",
          "height": 284
        }
      },
      "source": [
        "combi.head()"
      ],
      "execution_count": 0,
      "outputs": [
        {
          "output_type": "execute_result",
          "data": {
            "text/html": [
              "<div>\n",
              "<style scoped>\n",
              "    .dataframe tbody tr th:only-of-type {\n",
              "        vertical-align: middle;\n",
              "    }\n",
              "\n",
              "    .dataframe tbody tr th {\n",
              "        vertical-align: top;\n",
              "    }\n",
              "\n",
              "    .dataframe thead th {\n",
              "        text-align: right;\n",
              "    }\n",
              "</style>\n",
              "<table border=\"1\" class=\"dataframe\">\n",
              "  <thead>\n",
              "    <tr style=\"text-align: right;\">\n",
              "      <th></th>\n",
              "      <th>Type</th>\n",
              "      <th>campaign_id</th>\n",
              "      <th>coupon_id</th>\n",
              "      <th>customer_id</th>\n",
              "      <th>redemption_status</th>\n",
              "      <th>campaign_data.campaign_type</th>\n",
              "      <th>customer_demographics.age_range</th>\n",
              "      <th>customer_demographics.marital_status</th>\n",
              "      <th>customer_demographics.rented</th>\n",
              "      <th>customer_demographics.family_size</th>\n",
              "      <th>customer_demographics.no_of_children</th>\n",
              "      <th>customer_demographics.income_bracket</th>\n",
              "      <th>campaign_data.SUM(combi.coupon_id)</th>\n",
              "      <th>campaign_data.SUM(combi.customer_id)</th>\n",
              "      <th>campaign_data.SUM(combi.redemption_status)</th>\n",
              "      <th>campaign_data.STD(combi.coupon_id)</th>\n",
              "      <th>campaign_data.STD(combi.customer_id)</th>\n",
              "      <th>campaign_data.STD(combi.redemption_status)</th>\n",
              "      <th>campaign_data.MAX(combi.coupon_id)</th>\n",
              "      <th>campaign_data.MAX(combi.customer_id)</th>\n",
              "      <th>campaign_data.MAX(combi.redemption_status)</th>\n",
              "      <th>campaign_data.SKEW(combi.coupon_id)</th>\n",
              "      <th>campaign_data.SKEW(combi.customer_id)</th>\n",
              "      <th>campaign_data.SKEW(combi.redemption_status)</th>\n",
              "      <th>campaign_data.MIN(combi.coupon_id)</th>\n",
              "      <th>campaign_data.MIN(combi.customer_id)</th>\n",
              "      <th>campaign_data.MIN(combi.redemption_status)</th>\n",
              "      <th>campaign_data.MEAN(combi.coupon_id)</th>\n",
              "      <th>campaign_data.MEAN(combi.customer_id)</th>\n",
              "      <th>campaign_data.MEAN(combi.redemption_status)</th>\n",
              "      <th>campaign_data.COUNT(combi)</th>\n",
              "      <th>campaign_data.NUM_UNIQUE(combi.Type)</th>\n",
              "      <th>campaign_data.MODE(combi.Type)</th>\n",
              "      <th>campaign_data.DAY(start_date)</th>\n",
              "      <th>campaign_data.DAY(end_date)</th>\n",
              "      <th>campaign_data.YEAR(start_date)</th>\n",
              "      <th>campaign_data.YEAR(end_date)</th>\n",
              "      <th>campaign_data.MONTH(start_date)</th>\n",
              "      <th>campaign_data.MONTH(end_date)</th>\n",
              "      <th>campaign_data.WEEKDAY(start_date)</th>\n",
              "      <th>...</th>\n",
              "      <th>customer_demographics.MAX(combi.redemption_status)</th>\n",
              "      <th>customer_demographics.SKEW(combi.coupon_id)</th>\n",
              "      <th>customer_demographics.SKEW(combi.customer_id)</th>\n",
              "      <th>customer_demographics.SKEW(combi.redemption_status)</th>\n",
              "      <th>customer_demographics.MIN(combi.coupon_id)</th>\n",
              "      <th>customer_demographics.MIN(combi.customer_id)</th>\n",
              "      <th>customer_demographics.MIN(combi.redemption_status)</th>\n",
              "      <th>customer_demographics.MEAN(combi.coupon_id)</th>\n",
              "      <th>customer_demographics.MEAN(combi.customer_id)</th>\n",
              "      <th>customer_demographics.MEAN(combi.redemption_status)</th>\n",
              "      <th>customer_demographics.COUNT(combi)</th>\n",
              "      <th>customer_demographics.NUM_UNIQUE(combi.Type)</th>\n",
              "      <th>customer_demographics.MODE(combi.Type)</th>\n",
              "      <th>customer_demographics.SUM(customer_transaction_data.quantity)</th>\n",
              "      <th>customer_demographics.SUM(customer_transaction_data.selling_price)</th>\n",
              "      <th>customer_demographics.SUM(customer_transaction_data.other_discount)</th>\n",
              "      <th>customer_demographics.SUM(customer_transaction_data.coupon_discount)</th>\n",
              "      <th>customer_demographics.STD(customer_transaction_data.quantity)</th>\n",
              "      <th>customer_demographics.STD(customer_transaction_data.selling_price)</th>\n",
              "      <th>customer_demographics.STD(customer_transaction_data.other_discount)</th>\n",
              "      <th>customer_demographics.STD(customer_transaction_data.coupon_discount)</th>\n",
              "      <th>customer_demographics.MAX(customer_transaction_data.quantity)</th>\n",
              "      <th>customer_demographics.MAX(customer_transaction_data.selling_price)</th>\n",
              "      <th>customer_demographics.MAX(customer_transaction_data.other_discount)</th>\n",
              "      <th>customer_demographics.MAX(customer_transaction_data.coupon_discount)</th>\n",
              "      <th>customer_demographics.SKEW(customer_transaction_data.quantity)</th>\n",
              "      <th>customer_demographics.SKEW(customer_transaction_data.selling_price)</th>\n",
              "      <th>customer_demographics.SKEW(customer_transaction_data.other_discount)</th>\n",
              "      <th>customer_demographics.SKEW(customer_transaction_data.coupon_discount)</th>\n",
              "      <th>customer_demographics.MIN(customer_transaction_data.quantity)</th>\n",
              "      <th>customer_demographics.MIN(customer_transaction_data.selling_price)</th>\n",
              "      <th>customer_demographics.MIN(customer_transaction_data.other_discount)</th>\n",
              "      <th>customer_demographics.MIN(customer_transaction_data.coupon_discount)</th>\n",
              "      <th>customer_demographics.MEAN(customer_transaction_data.quantity)</th>\n",
              "      <th>customer_demographics.MEAN(customer_transaction_data.selling_price)</th>\n",
              "      <th>customer_demographics.MEAN(customer_transaction_data.other_discount)</th>\n",
              "      <th>customer_demographics.MEAN(customer_transaction_data.coupon_discount)</th>\n",
              "      <th>customer_demographics.COUNT(customer_transaction_data)</th>\n",
              "      <th>customer_demographics.NUM_UNIQUE(customer_transaction_data.item_id)</th>\n",
              "      <th>customer_demographics.MODE(customer_transaction_data.item_id)</th>\n",
              "    </tr>\n",
              "    <tr>\n",
              "      <th>id</th>\n",
              "      <th></th>\n",
              "      <th></th>\n",
              "      <th></th>\n",
              "      <th></th>\n",
              "      <th></th>\n",
              "      <th></th>\n",
              "      <th></th>\n",
              "      <th></th>\n",
              "      <th></th>\n",
              "      <th></th>\n",
              "      <th></th>\n",
              "      <th></th>\n",
              "      <th></th>\n",
              "      <th></th>\n",
              "      <th></th>\n",
              "      <th></th>\n",
              "      <th></th>\n",
              "      <th></th>\n",
              "      <th></th>\n",
              "      <th></th>\n",
              "      <th></th>\n",
              "      <th></th>\n",
              "      <th></th>\n",
              "      <th></th>\n",
              "      <th></th>\n",
              "      <th></th>\n",
              "      <th></th>\n",
              "      <th></th>\n",
              "      <th></th>\n",
              "      <th></th>\n",
              "      <th></th>\n",
              "      <th></th>\n",
              "      <th></th>\n",
              "      <th></th>\n",
              "      <th></th>\n",
              "      <th></th>\n",
              "      <th></th>\n",
              "      <th></th>\n",
              "      <th></th>\n",
              "      <th></th>\n",
              "      <th></th>\n",
              "      <th></th>\n",
              "      <th></th>\n",
              "      <th></th>\n",
              "      <th></th>\n",
              "      <th></th>\n",
              "      <th></th>\n",
              "      <th></th>\n",
              "      <th></th>\n",
              "      <th></th>\n",
              "      <th></th>\n",
              "      <th></th>\n",
              "      <th></th>\n",
              "      <th></th>\n",
              "      <th></th>\n",
              "      <th></th>\n",
              "      <th></th>\n",
              "      <th></th>\n",
              "      <th></th>\n",
              "      <th></th>\n",
              "      <th></th>\n",
              "      <th></th>\n",
              "      <th></th>\n",
              "      <th></th>\n",
              "      <th></th>\n",
              "      <th></th>\n",
              "      <th></th>\n",
              "      <th></th>\n",
              "      <th></th>\n",
              "      <th></th>\n",
              "      <th></th>\n",
              "      <th></th>\n",
              "      <th></th>\n",
              "      <th></th>\n",
              "      <th></th>\n",
              "      <th></th>\n",
              "      <th></th>\n",
              "      <th></th>\n",
              "      <th></th>\n",
              "      <th></th>\n",
              "      <th></th>\n",
              "    </tr>\n",
              "  </thead>\n",
              "  <tbody>\n",
              "    <tr>\n",
              "      <th>1</th>\n",
              "      <td>Train</td>\n",
              "      <td>13</td>\n",
              "      <td>27</td>\n",
              "      <td>1053</td>\n",
              "      <td>0.0</td>\n",
              "      <td>X</td>\n",
              "      <td>36-45</td>\n",
              "      <td>Single</td>\n",
              "      <td>0.0</td>\n",
              "      <td>1</td>\n",
              "      <td>NaN</td>\n",
              "      <td>2.0</td>\n",
              "      <td>11436200</td>\n",
              "      <td>17700224</td>\n",
              "      <td>346.0</td>\n",
              "      <td>337.453434</td>\n",
              "      <td>453.812706</td>\n",
              "      <td>0.122768</td>\n",
              "      <td>1114</td>\n",
              "      <td>1582</td>\n",
              "      <td>1.0</td>\n",
              "      <td>0.198288</td>\n",
              "      <td>0.031854</td>\n",
              "      <td>7.896777</td>\n",
              "      <td>20</td>\n",
              "      <td>1</td>\n",
              "      <td>0.0</td>\n",
              "      <td>505.892241</td>\n",
              "      <td>782.987879</td>\n",
              "      <td>0.015306</td>\n",
              "      <td>22606</td>\n",
              "      <td>1</td>\n",
              "      <td>Train</td>\n",
              "      <td>19</td>\n",
              "      <td>7</td>\n",
              "      <td>2013</td>\n",
              "      <td>2013</td>\n",
              "      <td>5</td>\n",
              "      <td>5</td>\n",
              "      <td>6</td>\n",
              "      <td>...</td>\n",
              "      <td>1.0</td>\n",
              "      <td>0.198288</td>\n",
              "      <td>0.031854</td>\n",
              "      <td>7.896777</td>\n",
              "      <td>20.0</td>\n",
              "      <td>1.0</td>\n",
              "      <td>0.0</td>\n",
              "      <td>505.892241</td>\n",
              "      <td>782.987879</td>\n",
              "      <td>0.015306</td>\n",
              "      <td>22606.0</td>\n",
              "      <td>1.0</td>\n",
              "      <td>Train</td>\n",
              "      <td>305729.0</td>\n",
              "      <td>204036.51</td>\n",
              "      <td>-51006.54</td>\n",
              "      <td>-281.39</td>\n",
              "      <td>970.083538</td>\n",
              "      <td>88.540968</td>\n",
              "      <td>27.709894</td>\n",
              "      <td>2.247589</td>\n",
              "      <td>15332.0</td>\n",
              "      <td>1424.80</td>\n",
              "      <td>0.0</td>\n",
              "      <td>0.0</td>\n",
              "      <td>8.773987</td>\n",
              "      <td>5.868635</td>\n",
              "      <td>-2.388549</td>\n",
              "      <td>-29.317078</td>\n",
              "      <td>1.0</td>\n",
              "      <td>7.12</td>\n",
              "      <td>-284.96</td>\n",
              "      <td>-89.05</td>\n",
              "      <td>123.726831</td>\n",
              "      <td>82.572444</td>\n",
              "      <td>-20.642064</td>\n",
              "      <td>-0.113877</td>\n",
              "      <td>2471.0</td>\n",
              "      <td>1192.0</td>\n",
              "      <td>49009.0</td>\n",
              "    </tr>\n",
              "    <tr>\n",
              "      <th>2</th>\n",
              "      <td>Train</td>\n",
              "      <td>13</td>\n",
              "      <td>116</td>\n",
              "      <td>48</td>\n",
              "      <td>0.0</td>\n",
              "      <td>X</td>\n",
              "      <td>36-45</td>\n",
              "      <td>Single</td>\n",
              "      <td>0.0</td>\n",
              "      <td>1</td>\n",
              "      <td>NaN</td>\n",
              "      <td>2.0</td>\n",
              "      <td>11436200</td>\n",
              "      <td>17700224</td>\n",
              "      <td>346.0</td>\n",
              "      <td>337.453434</td>\n",
              "      <td>453.812706</td>\n",
              "      <td>0.122768</td>\n",
              "      <td>1114</td>\n",
              "      <td>1582</td>\n",
              "      <td>1.0</td>\n",
              "      <td>0.198288</td>\n",
              "      <td>0.031854</td>\n",
              "      <td>7.896777</td>\n",
              "      <td>20</td>\n",
              "      <td>1</td>\n",
              "      <td>0.0</td>\n",
              "      <td>505.892241</td>\n",
              "      <td>782.987879</td>\n",
              "      <td>0.015306</td>\n",
              "      <td>22606</td>\n",
              "      <td>1</td>\n",
              "      <td>Train</td>\n",
              "      <td>19</td>\n",
              "      <td>7</td>\n",
              "      <td>2013</td>\n",
              "      <td>2013</td>\n",
              "      <td>5</td>\n",
              "      <td>5</td>\n",
              "      <td>6</td>\n",
              "      <td>...</td>\n",
              "      <td>1.0</td>\n",
              "      <td>0.198288</td>\n",
              "      <td>0.031854</td>\n",
              "      <td>7.896777</td>\n",
              "      <td>20.0</td>\n",
              "      <td>1.0</td>\n",
              "      <td>0.0</td>\n",
              "      <td>505.892241</td>\n",
              "      <td>782.987879</td>\n",
              "      <td>0.015306</td>\n",
              "      <td>22606.0</td>\n",
              "      <td>1.0</td>\n",
              "      <td>Train</td>\n",
              "      <td>305729.0</td>\n",
              "      <td>204036.51</td>\n",
              "      <td>-51006.54</td>\n",
              "      <td>-281.39</td>\n",
              "      <td>970.083538</td>\n",
              "      <td>88.540968</td>\n",
              "      <td>27.709894</td>\n",
              "      <td>2.247589</td>\n",
              "      <td>15332.0</td>\n",
              "      <td>1424.80</td>\n",
              "      <td>0.0</td>\n",
              "      <td>0.0</td>\n",
              "      <td>8.773987</td>\n",
              "      <td>5.868635</td>\n",
              "      <td>-2.388549</td>\n",
              "      <td>-29.317078</td>\n",
              "      <td>1.0</td>\n",
              "      <td>7.12</td>\n",
              "      <td>-284.96</td>\n",
              "      <td>-89.05</td>\n",
              "      <td>123.726831</td>\n",
              "      <td>82.572444</td>\n",
              "      <td>-20.642064</td>\n",
              "      <td>-0.113877</td>\n",
              "      <td>2471.0</td>\n",
              "      <td>1192.0</td>\n",
              "      <td>49009.0</td>\n",
              "    </tr>\n",
              "    <tr>\n",
              "      <th>3</th>\n",
              "      <td>Test</td>\n",
              "      <td>22</td>\n",
              "      <td>869</td>\n",
              "      <td>967</td>\n",
              "      <td>NaN</td>\n",
              "      <td>X</td>\n",
              "      <td>36-45</td>\n",
              "      <td>Single</td>\n",
              "      <td>0.0</td>\n",
              "      <td>2</td>\n",
              "      <td>NaN</td>\n",
              "      <td>4.0</td>\n",
              "      <td>3842196</td>\n",
              "      <td>4728864</td>\n",
              "      <td>0.0</td>\n",
              "      <td>300.425636</td>\n",
              "      <td>451.459340</td>\n",
              "      <td>NaN</td>\n",
              "      <td>1079</td>\n",
              "      <td>1573</td>\n",
              "      <td>NaN</td>\n",
              "      <td>-0.639946</td>\n",
              "      <td>-0.022176</td>\n",
              "      <td>NaN</td>\n",
              "      <td>37</td>\n",
              "      <td>1</td>\n",
              "      <td>NaN</td>\n",
              "      <td>662.904762</td>\n",
              "      <td>815.884058</td>\n",
              "      <td>NaN</td>\n",
              "      <td>5796</td>\n",
              "      <td>1</td>\n",
              "      <td>Test</td>\n",
              "      <td>16</td>\n",
              "      <td>18</td>\n",
              "      <td>2013</td>\n",
              "      <td>2013</td>\n",
              "      <td>9</td>\n",
              "      <td>10</td>\n",
              "      <td>0</td>\n",
              "      <td>...</td>\n",
              "      <td>NaN</td>\n",
              "      <td>-0.639946</td>\n",
              "      <td>-0.022176</td>\n",
              "      <td>NaN</td>\n",
              "      <td>37.0</td>\n",
              "      <td>1.0</td>\n",
              "      <td>NaN</td>\n",
              "      <td>662.904762</td>\n",
              "      <td>815.884058</td>\n",
              "      <td>NaN</td>\n",
              "      <td>5796.0</td>\n",
              "      <td>1.0</td>\n",
              "      <td>Test</td>\n",
              "      <td>172180.0</td>\n",
              "      <td>65377.07</td>\n",
              "      <td>-13809.25</td>\n",
              "      <td>-4230.48</td>\n",
              "      <td>2510.492797</td>\n",
              "      <td>232.838670</td>\n",
              "      <td>55.018978</td>\n",
              "      <td>20.621521</td>\n",
              "      <td>18188.0</td>\n",
              "      <td>1683.04</td>\n",
              "      <td>0.0</td>\n",
              "      <td>0.0</td>\n",
              "      <td>6.164904</td>\n",
              "      <td>4.610449</td>\n",
              "      <td>-7.052736</td>\n",
              "      <td>-4.980850</td>\n",
              "      <td>1.0</td>\n",
              "      <td>3.56</td>\n",
              "      <td>-780.08</td>\n",
              "      <td>-195.55</td>\n",
              "      <td>405.129412</td>\n",
              "      <td>153.828400</td>\n",
              "      <td>-32.492353</td>\n",
              "      <td>-9.954071</td>\n",
              "      <td>425.0</td>\n",
              "      <td>329.0</td>\n",
              "      <td>49009.0</td>\n",
              "    </tr>\n",
              "    <tr>\n",
              "      <th>4</th>\n",
              "      <td>Test</td>\n",
              "      <td>20</td>\n",
              "      <td>389</td>\n",
              "      <td>1566</td>\n",
              "      <td>NaN</td>\n",
              "      <td>Y</td>\n",
              "      <td>NaN</td>\n",
              "      <td>NaN</td>\n",
              "      <td>NaN</td>\n",
              "      <td>NaN</td>\n",
              "      <td>NaN</td>\n",
              "      <td>NaN</td>\n",
              "      <td>3789808</td>\n",
              "      <td>4819224</td>\n",
              "      <td>0.0</td>\n",
              "      <td>241.101256</td>\n",
              "      <td>465.095881</td>\n",
              "      <td>NaN</td>\n",
              "      <td>1094</td>\n",
              "      <td>1582</td>\n",
              "      <td>NaN</td>\n",
              "      <td>-0.271242</td>\n",
              "      <td>-0.027056</td>\n",
              "      <td>NaN</td>\n",
              "      <td>263</td>\n",
              "      <td>1</td>\n",
              "      <td>NaN</td>\n",
              "      <td>647.166667</td>\n",
              "      <td>822.954918</td>\n",
              "      <td>NaN</td>\n",
              "      <td>5856</td>\n",
              "      <td>1</td>\n",
              "      <td>Test</td>\n",
              "      <td>9</td>\n",
              "      <td>16</td>\n",
              "      <td>2013</td>\n",
              "      <td>2013</td>\n",
              "      <td>7</td>\n",
              "      <td>11</td>\n",
              "      <td>1</td>\n",
              "      <td>...</td>\n",
              "      <td>NaN</td>\n",
              "      <td>NaN</td>\n",
              "      <td>NaN</td>\n",
              "      <td>NaN</td>\n",
              "      <td>NaN</td>\n",
              "      <td>NaN</td>\n",
              "      <td>NaN</td>\n",
              "      <td>NaN</td>\n",
              "      <td>NaN</td>\n",
              "      <td>NaN</td>\n",
              "      <td>NaN</td>\n",
              "      <td>NaN</td>\n",
              "      <td>NaN</td>\n",
              "      <td>NaN</td>\n",
              "      <td>NaN</td>\n",
              "      <td>NaN</td>\n",
              "      <td>NaN</td>\n",
              "      <td>NaN</td>\n",
              "      <td>NaN</td>\n",
              "      <td>NaN</td>\n",
              "      <td>NaN</td>\n",
              "      <td>NaN</td>\n",
              "      <td>NaN</td>\n",
              "      <td>NaN</td>\n",
              "      <td>NaN</td>\n",
              "      <td>NaN</td>\n",
              "      <td>NaN</td>\n",
              "      <td>NaN</td>\n",
              "      <td>NaN</td>\n",
              "      <td>NaN</td>\n",
              "      <td>NaN</td>\n",
              "      <td>NaN</td>\n",
              "      <td>NaN</td>\n",
              "      <td>NaN</td>\n",
              "      <td>NaN</td>\n",
              "      <td>NaN</td>\n",
              "      <td>NaN</td>\n",
              "      <td>NaN</td>\n",
              "      <td>NaN</td>\n",
              "      <td>NaN</td>\n",
              "    </tr>\n",
              "    <tr>\n",
              "      <th>5</th>\n",
              "      <td>Test</td>\n",
              "      <td>22</td>\n",
              "      <td>981</td>\n",
              "      <td>510</td>\n",
              "      <td>NaN</td>\n",
              "      <td>X</td>\n",
              "      <td>36-45</td>\n",
              "      <td>Single</td>\n",
              "      <td>0.0</td>\n",
              "      <td>2</td>\n",
              "      <td>NaN</td>\n",
              "      <td>4.0</td>\n",
              "      <td>3842196</td>\n",
              "      <td>4728864</td>\n",
              "      <td>0.0</td>\n",
              "      <td>300.425636</td>\n",
              "      <td>451.459340</td>\n",
              "      <td>NaN</td>\n",
              "      <td>1079</td>\n",
              "      <td>1573</td>\n",
              "      <td>NaN</td>\n",
              "      <td>-0.639946</td>\n",
              "      <td>-0.022176</td>\n",
              "      <td>NaN</td>\n",
              "      <td>37</td>\n",
              "      <td>1</td>\n",
              "      <td>NaN</td>\n",
              "      <td>662.904762</td>\n",
              "      <td>815.884058</td>\n",
              "      <td>NaN</td>\n",
              "      <td>5796</td>\n",
              "      <td>1</td>\n",
              "      <td>Test</td>\n",
              "      <td>16</td>\n",
              "      <td>18</td>\n",
              "      <td>2013</td>\n",
              "      <td>2013</td>\n",
              "      <td>9</td>\n",
              "      <td>10</td>\n",
              "      <td>0</td>\n",
              "      <td>...</td>\n",
              "      <td>NaN</td>\n",
              "      <td>-0.639946</td>\n",
              "      <td>-0.022176</td>\n",
              "      <td>NaN</td>\n",
              "      <td>37.0</td>\n",
              "      <td>1.0</td>\n",
              "      <td>NaN</td>\n",
              "      <td>662.904762</td>\n",
              "      <td>815.884058</td>\n",
              "      <td>NaN</td>\n",
              "      <td>5796.0</td>\n",
              "      <td>1.0</td>\n",
              "      <td>Test</td>\n",
              "      <td>172180.0</td>\n",
              "      <td>65377.07</td>\n",
              "      <td>-13809.25</td>\n",
              "      <td>-4230.48</td>\n",
              "      <td>2510.492797</td>\n",
              "      <td>232.838670</td>\n",
              "      <td>55.018978</td>\n",
              "      <td>20.621521</td>\n",
              "      <td>18188.0</td>\n",
              "      <td>1683.04</td>\n",
              "      <td>0.0</td>\n",
              "      <td>0.0</td>\n",
              "      <td>6.164904</td>\n",
              "      <td>4.610449</td>\n",
              "      <td>-7.052736</td>\n",
              "      <td>-4.980850</td>\n",
              "      <td>1.0</td>\n",
              "      <td>3.56</td>\n",
              "      <td>-780.08</td>\n",
              "      <td>-195.55</td>\n",
              "      <td>405.129412</td>\n",
              "      <td>153.828400</td>\n",
              "      <td>-32.492353</td>\n",
              "      <td>-9.954071</td>\n",
              "      <td>425.0</td>\n",
              "      <td>329.0</td>\n",
              "      <td>49009.0</td>\n",
              "    </tr>\n",
              "  </tbody>\n",
              "</table>\n",
              "<p>5 rows × 89 columns</p>\n",
              "</div>"
            ],
            "text/plain": [
              "     Type  ...  customer_demographics.MODE(customer_transaction_data.item_id)\n",
              "id         ...                                                               \n",
              "1   Train  ...                                            49009.0            \n",
              "2   Train  ...                                            49009.0            \n",
              "3    Test  ...                                            49009.0            \n",
              "4    Test  ...                                                NaN            \n",
              "5    Test  ...                                            49009.0            \n",
              "\n",
              "[5 rows x 89 columns]"
            ]
          },
          "metadata": {
            "tags": []
          },
          "execution_count": 9
        }
      ]
    },
    {
      "cell_type": "code",
      "metadata": {
        "id": "9tppKE482TiJ",
        "colab_type": "code",
        "colab": {}
      },
      "source": [
        "combi.drop(['customer_demographics.age_range'], axis=1, inplace=True)\n",
        "combi.drop(['campaign_data.campaign_type'], axis=1, inplace=True)\n",
        "combi.drop(['customer_demographics.family_size'], axis=1, inplace=True)\n",
        "combi.drop(['customer_demographics.no_of_children'], axis=1, inplace=True)\n",
        "combi.drop(['customer_demographics.marital_status'], axis=1, inplace=True)"
      ],
      "execution_count": 0,
      "outputs": []
    },
    {
      "cell_type": "code",
      "metadata": {
        "id": "Oz2DDXnscLOy",
        "colab_type": "code",
        "colab": {}
      },
      "source": [
        "#labelencoder = LabelEncoder()\n",
        "#combi[\"customer_demographics.age_range\"] = labelencoder.fit_transform(combi[\"customer_demographics.age_range\"])\n",
        "#combi[\"campaign_data.campaign_type\"] = labelencoder.fit_transform(combi[\"campaign_data.campaign_type\"])\n",
        "#combi[\"customer_demographics.family_size\"] = labelencoder.fit_transform(combi[\"customer_demographics.family_size\"])\n",
        "#combi[\"customer_demographics.no_of_children\"] = labelencoder.fit_transform(combi[\"customer_demographics.no_of_children\"])\n",
        "#combi[\"customer_demographics.marital_status\"] = labelencoder.fit_transform(combi[\"customer_demographics.marital_status\"])"
      ],
      "execution_count": 0,
      "outputs": []
    },
    {
      "cell_type": "code",
      "metadata": {
        "id": "AWOTe3YkYbEJ",
        "colab_type": "code",
        "colab": {}
      },
      "source": [
        "ntrain=combi[combi['Type']=='Train']\n",
        "ntest=combi[combi['Type']=='Test']"
      ],
      "execution_count": 0,
      "outputs": []
    },
    {
      "cell_type": "code",
      "metadata": {
        "id": "oWtOfoX5ZQGu",
        "colab_type": "code",
        "colab": {}
      },
      "source": [
        "ntrain.drop(['Type'], axis=1, inplace=True)\n",
        "ntest.drop(['Type'], axis=1, inplace=True)\n",
        "ntrain.drop(['campaign_data.MODE(combi.Type)'], axis=1, inplace=True)\n",
        "ntest.drop(['campaign_data.MODE(combi.Type)'], axis=1, inplace=True)\n",
        "ntrain.drop(['customer_demographics.MODE(combi.Type)'], axis=1, inplace=True)\n",
        "ntest.drop(['customer_demographics.MODE(combi.Type)'], axis=1, inplace=True)\n",
        "#ntrain.drop(['customer_demographics.age_range'], axis=1, inplace=True)\n",
        "#ntest.drop(['customer_demographics.age_range'], axis=1, inplace=True)"
      ],
      "execution_count": 0,
      "outputs": []
    },
    {
      "cell_type": "code",
      "metadata": {
        "id": "ajnz2Ei9ZXrO",
        "colab_type": "code",
        "outputId": "286ef827-73ee-4244-e12a-906d7c6347b3",
        "colab": {
          "base_uri": "https://localhost:8080/",
          "height": 34
        }
      },
      "source": [
        "ntest.shape"
      ],
      "execution_count": 0,
      "outputs": [
        {
          "output_type": "execute_result",
          "data": {
            "text/plain": [
              "(50226, 68)"
            ]
          },
          "metadata": {
            "tags": []
          },
          "execution_count": 13
        }
      ]
    },
    {
      "cell_type": "code",
      "metadata": {
        "id": "b0ux7yNWZ3U6",
        "colab_type": "code",
        "colab": {}
      },
      "source": [
        "ntrain=ntrain.fillna(ntrain.mean())\n",
        "ntest=ntest.fillna(ntest.mean())"
      ],
      "execution_count": 0,
      "outputs": []
    },
    {
      "cell_type": "code",
      "metadata": {
        "id": "IaFmExpEajQf",
        "colab_type": "code",
        "outputId": "70513f7c-07ac-4aa6-ba8e-c0c48005227a",
        "colab": {
          "base_uri": "https://localhost:8080/",
          "height": 34
        }
      },
      "source": [
        "ntest.shape"
      ],
      "execution_count": 0,
      "outputs": [
        {
          "output_type": "execute_result",
          "data": {
            "text/plain": [
              "(50226, 68)"
            ]
          },
          "metadata": {
            "tags": []
          },
          "execution_count": 18
        }
      ]
    },
    {
      "cell_type": "code",
      "metadata": {
        "id": "q511VR0JariR",
        "colab_type": "code",
        "colab": {}
      },
      "source": [
        "X=ntrain\n",
        "y=rs"
      ],
      "execution_count": 0,
      "outputs": []
    },
    {
      "cell_type": "code",
      "metadata": {
        "id": "eaynxFvbtDle",
        "colab_type": "code",
        "colab": {}
      },
      "source": [
        "#X.to_csv(\"X.csv\")\n",
        "#rs.to_csv(\"y.csv\")\n",
        "#ntest.to_csv(\"test.csv\")"
      ],
      "execution_count": 0,
      "outputs": []
    },
    {
      "cell_type": "code",
      "metadata": {
        "id": "kxMSPyHgvXDD",
        "colab_type": "code",
        "colab": {}
      },
      "source": [
        "X=X.reset_index()\n",
        "ntest=ntest.reset_index()\n",
        "X.drop(['id'], axis=1, inplace=True)"
      ],
      "execution_count": 0,
      "outputs": []
    },
    {
      "cell_type": "code",
      "metadata": {
        "id": "5va5LiMNwNyV",
        "colab_type": "code",
        "outputId": "7c8a56e8-43cc-4cab-8e30-39434d3f0db0",
        "colab": {
          "base_uri": "https://localhost:8080/",
          "height": 34
        }
      },
      "source": [
        "#newtrain=pd.concat([X,y],axis=1)\n",
        "#newtrain.to_csv(\"train.csv\")"
      ],
      "execution_count": 0,
      "outputs": [
        {
          "output_type": "execute_result",
          "data": {
            "text/plain": [
              "(78369, 69)"
            ]
          },
          "metadata": {
            "tags": []
          },
          "execution_count": 22
        }
      ]
    },
    {
      "cell_type": "code",
      "metadata": {
        "id": "IXRna9R_32e3",
        "colab_type": "code",
        "colab": {}
      },
      "source": [
        "#xcol=X.columns\n",
        "#ycol=y.columns"
      ],
      "execution_count": 0,
      "outputs": []
    },
    {
      "cell_type": "code",
      "metadata": {
        "id": "nWnoxXpZKORs",
        "colab_type": "code",
        "colab": {}
      },
      "source": [
        "X=X.values\n",
        "y=y.values"
      ],
      "execution_count": 0,
      "outputs": []
    },
    {
      "cell_type": "code",
      "metadata": {
        "id": "kYdfN9NU30_x",
        "colab_type": "code",
        "colab": {}
      },
      "source": [
        "from sklearn.model_selection import train_test_split\n",
        "X_train, X_test, y_train, y_test = train_test_split(X, y, test_size = 0.3, random_state = 0)"
      ],
      "execution_count": 0,
      "outputs": []
    },
    {
      "cell_type": "code",
      "metadata": {
        "id": "ytXW0eIWqWpR",
        "colab_type": "code",
        "colab": {}
      },
      "source": [
        "from imblearn.over_sampling import RandomOverSampler\n",
        "ros = RandomOverSampler(random_state=0)\n",
        "X_train, y_train= ros.fit_resample(X_train, y_train)"
      ],
      "execution_count": 0,
      "outputs": []
    },
    {
      "cell_type": "code",
      "metadata": {
        "id": "RiHIB3JSkW-L",
        "colab_type": "code",
        "colab": {}
      },
      "source": [
        "X_train=pd.DataFrame(X_train)\n",
        "y_train=pd.DataFrame(y_train)\n",
        "X_test=pd.DataFrame(X_test)\n",
        "y_test=pd.DataFrame(y_test)\n",
        "X_train.columns=xcol\n",
        "X_test.columns=xcol\n",
        "y_train.columns=ycol\n",
        "y_test.columns=ycol"
      ],
      "execution_count": 0,
      "outputs": []
    },
    {
      "cell_type": "code",
      "metadata": {
        "id": "JOZ3htVVkSeu",
        "colab_type": "code",
        "outputId": "ada5238e-ef5d-4138-caa9-87b3c3cf6498",
        "colab": {
          "base_uri": "https://localhost:8080/",
          "height": 105
        }
      },
      "source": [
        "#from imblearn.over_sampling import SMOTE\n",
        "#sm = SMOTE(random_state=2)\n",
        "#X_train, y_train = sm.fit_sample(X_train, y_train)"
      ],
      "execution_count": 0,
      "outputs": [
        {
          "output_type": "stream",
          "text": [
            "/usr/local/lib/python3.6/dist-packages/sklearn/externals/six.py:31: DeprecationWarning: The module is deprecated in version 0.21 and will be removed in version 0.23 since we've dropped support for Python 2.7. Please rely on the official version of six (https://pypi.org/project/six/).\n",
            "  \"(https://pypi.org/project/six/).\", DeprecationWarning)\n",
            "/usr/local/lib/python3.6/dist-packages/sklearn/utils/validation.py:724: DataConversionWarning: A column-vector y was passed when a 1d array was expected. Please change the shape of y to (n_samples, ), for example using ravel().\n",
            "  y = column_or_1d(y, warn=True)\n"
          ],
          "name": "stderr"
        }
      ]
    },
    {
      "cell_type": "code",
      "metadata": {
        "id": "zgTsTOjTy7TA",
        "colab_type": "code",
        "outputId": "552982bf-853f-4382-e389-8c8fe8fcf288",
        "colab": {
          "base_uri": "https://localhost:8080/",
          "height": 34
        }
      },
      "source": [
        "#KNN\n",
        "from sklearn.neighbors import KNeighborsClassifier\n",
        "knn=KNeighborsClassifier(n_neighbors=3)\n",
        "knn.fit(X_train,y_train)\n",
        "y_pred=knn.predict(X_test)\n",
        "from sklearn import metrics\n",
        "y_pred=knn.predict(X_test)\n",
        "fpr, tpr, thresholds = metrics.roc_curve(y_test,y_pred, pos_label=1)\n",
        "print(\"AUC: \",metrics.auc(fpr, tpr))"
      ],
      "execution_count": 0,
      "outputs": [
        {
          "output_type": "stream",
          "text": [
            "AUC:  0.5369682134559222\n"
          ],
          "name": "stdout"
        }
      ]
    },
    {
      "cell_type": "code",
      "metadata": {
        "id": "8Ru-W25538yx",
        "colab_type": "code",
        "outputId": "177b6609-9104-4209-b9a4-aeff05d071a5",
        "colab": {
          "base_uri": "https://localhost:8080/",
          "height": 124
        }
      },
      "source": [
        "#RF\n",
        "from sklearn.ensemble import RandomForestClassifier\n",
        "rf=RandomForestClassifier()\n",
        "rf.fit(X_train,y_train)\n",
        "from sklearn import metrics\n",
        "y_pred=rf.predict(X_test)\n",
        "fpr, tpr, thresholds = metrics.roc_curve(y_test,y_pred, pos_label=1)\n",
        "print(\"AUC: \",metrics.auc(fpr, tpr))"
      ],
      "execution_count": 0,
      "outputs": [
        {
          "output_type": "stream",
          "text": [
            "/usr/local/lib/python3.6/dist-packages/sklearn/ensemble/forest.py:245: FutureWarning: The default value of n_estimators will change from 10 in version 0.20 to 100 in 0.22.\n",
            "  \"10 in version 0.20 to 100 in 0.22.\", FutureWarning)\n",
            "/usr/local/lib/python3.6/dist-packages/ipykernel_launcher.py:3: DataConversionWarning: A column-vector y was passed when a 1d array was expected. Please change the shape of y to (n_samples,), for example using ravel().\n",
            "  This is separate from the ipykernel package so we can avoid doing imports until\n"
          ],
          "name": "stderr"
        },
        {
          "output_type": "stream",
          "text": [
            "AUC:  0.5384237700065175\n"
          ],
          "name": "stdout"
        }
      ]
    },
    {
      "cell_type": "code",
      "metadata": {
        "id": "dEbNQPcJlwJ9",
        "colab_type": "code",
        "outputId": "e5394c80-ed10-47b5-bed7-4cfdca45ee3c",
        "colab": {
          "base_uri": "https://localhost:8080/",
          "height": 35
        }
      },
      "source": [
        "y_pred"
      ],
      "execution_count": 0,
      "outputs": [
        {
          "output_type": "execute_result",
          "data": {
            "text/plain": [
              "array([0, 0, 0, ..., 0, 0, 0])"
            ]
          },
          "metadata": {
            "tags": []
          },
          "execution_count": 31
        }
      ]
    },
    {
      "cell_type": "code",
      "metadata": {
        "id": "hMnOlg9blLRr",
        "colab_type": "code",
        "outputId": "82d06d5a-1514-4134-bff4-a2e7b551c321",
        "colab": {
          "base_uri": "https://localhost:8080/",
          "height": 34
        }
      },
      "source": [
        "#BME\n",
        "from sklearn.ensemble import BaggingClassifier\n",
        "from sklearn import tree\n",
        "bme= BaggingClassifier(tree.DecisionTreeClassifier(random_state=1))\n",
        "bme.fit(X_train,y_train)\n",
        "y_pred=bme.predict(X_test)\n",
        "from sklearn import metrics\n",
        "y_pred=bme.predict(X_test)\n",
        "fpr, tpr, thresholds = metrics.roc_curve(y_test,y_pred, pos_label=1)\n",
        "print(\"AUC: \",metrics.auc(fpr, tpr))"
      ],
      "execution_count": 0,
      "outputs": [
        {
          "output_type": "stream",
          "text": [
            "AUC:  0.5577611233003478\n"
          ],
          "name": "stdout"
        }
      ]
    },
    {
      "cell_type": "code",
      "metadata": {
        "id": "jYOnQsdzlmhp",
        "colab_type": "code",
        "outputId": "84bf3f5f-7df6-4a49-e393-0b4cda706db5",
        "colab": {
          "base_uri": "https://localhost:8080/",
          "height": 159
        }
      },
      "source": [
        "#ADABOOST\n",
        "from sklearn.ensemble import AdaBoostClassifier\n",
        "from sklearn.model_selection import GridSearchCV\n",
        "ada1 = AdaBoostClassifier()\n",
        "param_grid = {}\n",
        "ada = GridSearchCV(ada1, param_grid, cv=2)\n",
        "ada.fit(X_train, y_train)\n",
        "from sklearn import metrics\n",
        "y_pred=ada.predict(X_test)\n",
        "fpr, tpr, thresholds = metrics.roc_curve(y_test,y_pred, pos_label=1)\n",
        "print(\"AUC: \",metrics.auc(fpr, tpr))"
      ],
      "execution_count": 0,
      "outputs": [
        {
          "output_type": "stream",
          "text": [
            "/usr/local/lib/python3.6/dist-packages/sklearn/utils/validation.py:724: DataConversionWarning: A column-vector y was passed when a 1d array was expected. Please change the shape of y to (n_samples, ), for example using ravel().\n",
            "  y = column_or_1d(y, warn=True)\n",
            "/usr/local/lib/python3.6/dist-packages/sklearn/utils/validation.py:724: DataConversionWarning: A column-vector y was passed when a 1d array was expected. Please change the shape of y to (n_samples, ), for example using ravel().\n",
            "  y = column_or_1d(y, warn=True)\n",
            "/usr/local/lib/python3.6/dist-packages/sklearn/utils/validation.py:724: DataConversionWarning: A column-vector y was passed when a 1d array was expected. Please change the shape of y to (n_samples, ), for example using ravel().\n",
            "  y = column_or_1d(y, warn=True)\n"
          ],
          "name": "stderr"
        },
        {
          "output_type": "stream",
          "text": [
            "AUC:  0.6783736200042787\n"
          ],
          "name": "stdout"
        }
      ]
    },
    {
      "cell_type": "code",
      "metadata": {
        "id": "g96K31comDfe",
        "colab_type": "code",
        "outputId": "5a8122c9-e221-476e-d239-8d81220b9a86",
        "colab": {
          "base_uri": "https://localhost:8080/",
          "height": 159
        }
      },
      "source": [
        "#GBM\n",
        "from sklearn.ensemble import GradientBoostingClassifier\n",
        "from sklearn.model_selection import GridSearchCV\n",
        "gbm1 = GradientBoostingClassifier()\n",
        "param_grid = {}\n",
        "gbm_gscv = GridSearchCV(gbm1, param_grid, cv=2)\n",
        "gbm_gscv.fit(X_train, y_train)\n",
        "from sklearn import metrics\n",
        "y_pred=gbm_gscv.predict(X_test)\n",
        "fpr, tpr, thresholds = metrics.roc_curve(y_test,y_pred, pos_label=1)\n",
        "print(\"AUC: \",metrics.auc(fpr, tpr))"
      ],
      "execution_count": 0,
      "outputs": [
        {
          "output_type": "stream",
          "text": [
            "/usr/local/lib/python3.6/dist-packages/sklearn/ensemble/gradient_boosting.py:1450: DataConversionWarning: A column-vector y was passed when a 1d array was expected. Please change the shape of y to (n_samples, ), for example using ravel().\n",
            "  y = column_or_1d(y, warn=True)\n",
            "/usr/local/lib/python3.6/dist-packages/sklearn/ensemble/gradient_boosting.py:1450: DataConversionWarning: A column-vector y was passed when a 1d array was expected. Please change the shape of y to (n_samples, ), for example using ravel().\n",
            "  y = column_or_1d(y, warn=True)\n",
            "/usr/local/lib/python3.6/dist-packages/sklearn/ensemble/gradient_boosting.py:1450: DataConversionWarning: A column-vector y was passed when a 1d array was expected. Please change the shape of y to (n_samples, ), for example using ravel().\n",
            "  y = column_or_1d(y, warn=True)\n"
          ],
          "name": "stderr"
        },
        {
          "output_type": "stream",
          "text": [
            "AUC:  0.503448275862069\n"
          ],
          "name": "stdout"
        }
      ]
    },
    {
      "cell_type": "code",
      "metadata": {
        "id": "s_7DINlLmfoe",
        "colab_type": "code",
        "outputId": "31947f63-f0b6-45c3-a785-165afeeedd94",
        "colab": {
          "base_uri": "https://localhost:8080/",
          "height": 124
        }
      },
      "source": [
        "#XGBOOST\n",
        "from xgboost import XGBClassifier\n",
        "from sklearn.model_selection import GridSearchCV\n",
        "xgb1=XGBClassifier()\n",
        "param_grid = {}\n",
        "xgb_gscv = GridSearchCV(xgb1, param_grid, cv=7)\n",
        "xgb_gscv.fit(X_train, y_train)\n",
        "from sklearn import metrics\n",
        "y_pred=xgb_gscv.predict(X_test)\n",
        "fpr, tpr, thresholds = metrics.roc_curve(y_test,y_pred, pos_label=1)\n",
        "print(\"AUC: \",metrics.auc(fpr, tpr))"
      ],
      "execution_count": 0,
      "outputs": [
        {
          "output_type": "stream",
          "text": [
            "/usr/local/lib/python3.6/dist-packages/sklearn/preprocessing/label.py:219: DataConversionWarning: A column-vector y was passed when a 1d array was expected. Please change the shape of y to (n_samples, ), for example using ravel().\n",
            "  y = column_or_1d(y, warn=True)\n",
            "/usr/local/lib/python3.6/dist-packages/sklearn/preprocessing/label.py:252: DataConversionWarning: A column-vector y was passed when a 1d array was expected. Please change the shape of y to (n_samples, ), for example using ravel().\n",
            "  y = column_or_1d(y, warn=True)\n"
          ],
          "name": "stderr"
        },
        {
          "output_type": "stream",
          "text": [
            "AUC:  0.7358825629238248\n"
          ],
          "name": "stdout"
        }
      ]
    },
    {
      "cell_type": "code",
      "metadata": {
        "id": "ChOjLKAkm7pE",
        "colab_type": "code",
        "outputId": "49ec1b91-1d1d-4af5-d29f-72eb87c4442b",
        "colab": {
          "base_uri": "https://localhost:8080/",
          "height": 124
        }
      },
      "source": [
        "#LGBM\n",
        "from lightgbm import LGBMClassifier\n",
        "from sklearn.model_selection import GridSearchCV\n",
        "lgbm1=LGBMClassifier()\n",
        "param_grid = {}\n",
        "lgbm_gscv = GridSearchCV(lgbm1, param_grid, cv=3)\n",
        "lgbm_gscv.fit(X_train, y_train)\n",
        "from sklearn import metrics\n",
        "y_pred=lgbm_gscv.predict(X_test)\n",
        "fpr, tpr, thresholds = metrics.roc_curve(y_test,y_pred, pos_label=1)\n",
        "print(\"AUC: \",metrics.auc(fpr, tpr))"
      ],
      "execution_count": 0,
      "outputs": [
        {
          "output_type": "stream",
          "text": [
            "/usr/local/lib/python3.6/dist-packages/sklearn/preprocessing/label.py:219: DataConversionWarning: A column-vector y was passed when a 1d array was expected. Please change the shape of y to (n_samples, ), for example using ravel().\n",
            "  y = column_or_1d(y, warn=True)\n",
            "/usr/local/lib/python3.6/dist-packages/sklearn/preprocessing/label.py:252: DataConversionWarning: A column-vector y was passed when a 1d array was expected. Please change the shape of y to (n_samples, ), for example using ravel().\n",
            "  y = column_or_1d(y, warn=True)\n"
          ],
          "name": "stderr"
        },
        {
          "output_type": "stream",
          "text": [
            "AUC:  0.7329030408414056\n"
          ],
          "name": "stdout"
        }
      ]
    },
    {
      "cell_type": "code",
      "metadata": {
        "id": "gZ9woFRhpfAk",
        "colab_type": "code",
        "outputId": "b5ad16cc-6d9e-4cdf-af42-13673eba8bf7",
        "colab": {
          "base_uri": "https://localhost:8080/",
          "height": 360
        }
      },
      "source": [
        "pip install catboost"
      ],
      "execution_count": 0,
      "outputs": [
        {
          "output_type": "stream",
          "text": [
            "Collecting catboost\n",
            "\u001b[?25l  Downloading https://files.pythonhosted.org/packages/f4/06/0d9df29bd3b097d966a19bd8f210fcd6e2abaa8bc4bdf639d9f555089312/catboost-0.17.4-cp36-none-manylinux1_x86_64.whl (62.6MB)\n",
            "\u001b[K     |████████████████████████████████| 62.6MB 438kB/s \n",
            "\u001b[?25hRequirement already satisfied: plotly in /usr/local/lib/python3.6/dist-packages (from catboost) (4.1.1)\n",
            "Requirement already satisfied: pandas>=0.24.0 in /usr/local/lib/python3.6/dist-packages (from catboost) (0.24.2)\n",
            "Requirement already satisfied: graphviz in /usr/local/lib/python3.6/dist-packages (from catboost) (0.10.1)\n",
            "Requirement already satisfied: six in /usr/local/lib/python3.6/dist-packages (from catboost) (1.12.0)\n",
            "Requirement already satisfied: numpy>=1.16.0 in /usr/local/lib/python3.6/dist-packages (from catboost) (1.16.5)\n",
            "Requirement already satisfied: matplotlib in /usr/local/lib/python3.6/dist-packages (from catboost) (3.0.3)\n",
            "Requirement already satisfied: scipy in /usr/local/lib/python3.6/dist-packages (from catboost) (1.3.1)\n",
            "Requirement already satisfied: retrying>=1.3.3 in /usr/local/lib/python3.6/dist-packages (from plotly->catboost) (1.3.3)\n",
            "Requirement already satisfied: pytz>=2011k in /usr/local/lib/python3.6/dist-packages (from pandas>=0.24.0->catboost) (2018.9)\n",
            "Requirement already satisfied: python-dateutil>=2.5.0 in /usr/local/lib/python3.6/dist-packages (from pandas>=0.24.0->catboost) (2.5.3)\n",
            "Requirement already satisfied: pyparsing!=2.0.4,!=2.1.2,!=2.1.6,>=2.0.1 in /usr/local/lib/python3.6/dist-packages (from matplotlib->catboost) (2.4.2)\n",
            "Requirement already satisfied: kiwisolver>=1.0.1 in /usr/local/lib/python3.6/dist-packages (from matplotlib->catboost) (1.1.0)\n",
            "Requirement already satisfied: cycler>=0.10 in /usr/local/lib/python3.6/dist-packages (from matplotlib->catboost) (0.10.0)\n",
            "Requirement already satisfied: setuptools in /usr/local/lib/python3.6/dist-packages (from kiwisolver>=1.0.1->matplotlib->catboost) (41.2.0)\n",
            "Installing collected packages: catboost\n",
            "Successfully installed catboost-0.17.4\n"
          ],
          "name": "stdout"
        }
      ]
    },
    {
      "cell_type": "code",
      "metadata": {
        "id": "TyXU7uKwnMf5",
        "colab_type": "code",
        "outputId": "9ce6cb21-47b9-45ee-eadf-de7d73b5e6f1",
        "colab": {
          "base_uri": "https://localhost:8080/",
          "height": 1000
        }
      },
      "source": [
        "#CATBOOST\n",
        "from sklearn.model_selection import GridSearchCV\n",
        "from catboost import CatBoostClassifier\n",
        "cat=CatBoostClassifier()\n",
        "param_grid = {\"n_estimators\":[100]}\n",
        "cat_gscv = GridSearchCV(cat, param_grid, cv=3)\n",
        "cat_gscv.fit(X_train, y_train)\n",
        "from sklearn import metrics\n",
        "y_pred=cat_gscv.predict(X_test)\n",
        "fpr, tpr, thresholds = metrics.roc_curve(y_test,y_pred, pos_label=1)\n",
        "print(\"AUC: \",metrics.auc(fpr, tpr))"
      ],
      "execution_count": 0,
      "outputs": [
        {
          "output_type": "stream",
          "text": [
            "Learning rate set to 0.438038\n",
            "0:\tlearn: 0.5774593\ttotal: 95.2ms\tremaining: 9.42s\n",
            "1:\tlearn: 0.5520627\ttotal: 136ms\tremaining: 6.68s\n",
            "2:\tlearn: 0.5339520\ttotal: 177ms\tremaining: 5.73s\n",
            "3:\tlearn: 0.5172096\ttotal: 220ms\tremaining: 5.28s\n",
            "4:\tlearn: 0.5073728\ttotal: 260ms\tremaining: 4.93s\n",
            "5:\tlearn: 0.5000358\ttotal: 298ms\tremaining: 4.67s\n",
            "6:\tlearn: 0.4939681\ttotal: 337ms\tremaining: 4.48s\n",
            "7:\tlearn: 0.4902338\ttotal: 377ms\tremaining: 4.33s\n",
            "8:\tlearn: 0.4876881\ttotal: 413ms\tremaining: 4.18s\n",
            "9:\tlearn: 0.4838110\ttotal: 458ms\tremaining: 4.12s\n",
            "10:\tlearn: 0.4780464\ttotal: 498ms\tremaining: 4.03s\n",
            "11:\tlearn: 0.4747265\ttotal: 539ms\tremaining: 3.95s\n",
            "12:\tlearn: 0.4728835\ttotal: 578ms\tremaining: 3.87s\n",
            "13:\tlearn: 0.4688841\ttotal: 618ms\tremaining: 3.79s\n",
            "14:\tlearn: 0.4652408\ttotal: 660ms\tremaining: 3.74s\n",
            "15:\tlearn: 0.4629365\ttotal: 702ms\tremaining: 3.69s\n",
            "16:\tlearn: 0.4585292\ttotal: 744ms\tremaining: 3.63s\n",
            "17:\tlearn: 0.4560397\ttotal: 784ms\tremaining: 3.57s\n",
            "18:\tlearn: 0.4541882\ttotal: 825ms\tremaining: 3.52s\n",
            "19:\tlearn: 0.4527675\ttotal: 870ms\tremaining: 3.48s\n",
            "20:\tlearn: 0.4492241\ttotal: 912ms\tremaining: 3.43s\n",
            "21:\tlearn: 0.4461449\ttotal: 948ms\tremaining: 3.36s\n",
            "22:\tlearn: 0.4437206\ttotal: 986ms\tremaining: 3.3s\n",
            "23:\tlearn: 0.4400371\ttotal: 1.03s\tremaining: 3.25s\n",
            "24:\tlearn: 0.4380226\ttotal: 1.06s\tremaining: 3.19s\n",
            "25:\tlearn: 0.4356539\ttotal: 1.11s\tremaining: 3.15s\n",
            "26:\tlearn: 0.4328583\ttotal: 1.15s\tremaining: 3.1s\n",
            "27:\tlearn: 0.4304915\ttotal: 1.18s\tremaining: 3.04s\n",
            "28:\tlearn: 0.4276078\ttotal: 1.22s\tremaining: 3s\n",
            "29:\tlearn: 0.4252526\ttotal: 1.26s\tremaining: 2.95s\n",
            "30:\tlearn: 0.4214176\ttotal: 1.3s\tremaining: 2.9s\n",
            "31:\tlearn: 0.4185036\ttotal: 1.35s\tremaining: 2.86s\n",
            "32:\tlearn: 0.4159724\ttotal: 1.39s\tremaining: 2.82s\n",
            "33:\tlearn: 0.4137010\ttotal: 1.43s\tremaining: 2.78s\n",
            "34:\tlearn: 0.4123818\ttotal: 1.47s\tremaining: 2.73s\n",
            "35:\tlearn: 0.4110770\ttotal: 1.51s\tremaining: 2.68s\n",
            "36:\tlearn: 0.4095947\ttotal: 1.55s\tremaining: 2.65s\n",
            "37:\tlearn: 0.4062433\ttotal: 1.59s\tremaining: 2.6s\n",
            "38:\tlearn: 0.4019796\ttotal: 1.63s\tremaining: 2.55s\n",
            "39:\tlearn: 0.4011673\ttotal: 1.67s\tremaining: 2.5s\n",
            "40:\tlearn: 0.3993014\ttotal: 1.72s\tremaining: 2.47s\n",
            "41:\tlearn: 0.3970205\ttotal: 1.76s\tremaining: 2.43s\n",
            "42:\tlearn: 0.3950657\ttotal: 1.8s\tremaining: 2.38s\n",
            "43:\tlearn: 0.3933955\ttotal: 1.84s\tremaining: 2.34s\n",
            "44:\tlearn: 0.3912597\ttotal: 1.88s\tremaining: 2.3s\n",
            "45:\tlearn: 0.3902523\ttotal: 1.92s\tremaining: 2.25s\n",
            "46:\tlearn: 0.3887275\ttotal: 1.95s\tremaining: 2.2s\n",
            "47:\tlearn: 0.3880191\ttotal: 1.99s\tremaining: 2.16s\n",
            "48:\tlearn: 0.3867908\ttotal: 2.03s\tremaining: 2.11s\n",
            "49:\tlearn: 0.3856185\ttotal: 2.07s\tremaining: 2.07s\n",
            "50:\tlearn: 0.3847127\ttotal: 2.11s\tremaining: 2.02s\n",
            "51:\tlearn: 0.3815974\ttotal: 2.15s\tremaining: 1.98s\n",
            "52:\tlearn: 0.3791931\ttotal: 2.19s\tremaining: 1.94s\n",
            "53:\tlearn: 0.3778990\ttotal: 2.23s\tremaining: 1.9s\n",
            "54:\tlearn: 0.3766222\ttotal: 2.27s\tremaining: 1.86s\n",
            "55:\tlearn: 0.3760953\ttotal: 2.31s\tremaining: 1.81s\n",
            "56:\tlearn: 0.3748402\ttotal: 2.34s\tremaining: 1.77s\n",
            "57:\tlearn: 0.3729001\ttotal: 2.38s\tremaining: 1.73s\n",
            "58:\tlearn: 0.3716644\ttotal: 2.42s\tremaining: 1.68s\n",
            "59:\tlearn: 0.3703668\ttotal: 2.47s\tremaining: 1.65s\n",
            "60:\tlearn: 0.3695129\ttotal: 2.51s\tremaining: 1.61s\n",
            "61:\tlearn: 0.3682783\ttotal: 2.56s\tremaining: 1.57s\n",
            "62:\tlearn: 0.3673137\ttotal: 2.6s\tremaining: 1.52s\n",
            "63:\tlearn: 0.3657139\ttotal: 2.63s\tremaining: 1.48s\n",
            "64:\tlearn: 0.3646387\ttotal: 2.68s\tremaining: 1.44s\n",
            "65:\tlearn: 0.3636065\ttotal: 2.72s\tremaining: 1.4s\n",
            "66:\tlearn: 0.3620171\ttotal: 2.76s\tremaining: 1.36s\n",
            "67:\tlearn: 0.3608563\ttotal: 2.81s\tremaining: 1.32s\n",
            "68:\tlearn: 0.3596600\ttotal: 2.84s\tremaining: 1.28s\n",
            "69:\tlearn: 0.3587576\ttotal: 2.88s\tremaining: 1.24s\n",
            "70:\tlearn: 0.3575243\ttotal: 2.92s\tremaining: 1.19s\n",
            "71:\tlearn: 0.3561376\ttotal: 2.96s\tremaining: 1.15s\n",
            "72:\tlearn: 0.3549252\ttotal: 3s\tremaining: 1.11s\n",
            "73:\tlearn: 0.3539357\ttotal: 3.04s\tremaining: 1.07s\n",
            "74:\tlearn: 0.3528644\ttotal: 3.08s\tremaining: 1.02s\n",
            "75:\tlearn: 0.3521373\ttotal: 3.12s\tremaining: 985ms\n",
            "76:\tlearn: 0.3515687\ttotal: 3.16s\tremaining: 944ms\n",
            "77:\tlearn: 0.3510420\ttotal: 3.19s\tremaining: 901ms\n",
            "78:\tlearn: 0.3497166\ttotal: 3.23s\tremaining: 860ms\n",
            "79:\tlearn: 0.3492835\ttotal: 3.27s\tremaining: 817ms\n",
            "80:\tlearn: 0.3474638\ttotal: 3.31s\tremaining: 776ms\n",
            "81:\tlearn: 0.3465127\ttotal: 3.35s\tremaining: 735ms\n",
            "82:\tlearn: 0.3459476\ttotal: 3.39s\tremaining: 694ms\n",
            "83:\tlearn: 0.3443073\ttotal: 3.43s\tremaining: 654ms\n",
            "84:\tlearn: 0.3429107\ttotal: 3.47s\tremaining: 613ms\n",
            "85:\tlearn: 0.3417430\ttotal: 3.51s\tremaining: 571ms\n",
            "86:\tlearn: 0.3405997\ttotal: 3.56s\tremaining: 531ms\n",
            "87:\tlearn: 0.3395630\ttotal: 3.6s\tremaining: 491ms\n",
            "88:\tlearn: 0.3382103\ttotal: 3.65s\tremaining: 451ms\n",
            "89:\tlearn: 0.3370522\ttotal: 3.69s\tremaining: 410ms\n",
            "90:\tlearn: 0.3361010\ttotal: 3.73s\tremaining: 369ms\n",
            "91:\tlearn: 0.3341801\ttotal: 3.77s\tremaining: 328ms\n",
            "92:\tlearn: 0.3337542\ttotal: 3.81s\tremaining: 287ms\n",
            "93:\tlearn: 0.3322757\ttotal: 3.85s\tremaining: 246ms\n",
            "94:\tlearn: 0.3317756\ttotal: 3.88s\tremaining: 204ms\n",
            "95:\tlearn: 0.3303455\ttotal: 3.92s\tremaining: 164ms\n",
            "96:\tlearn: 0.3292650\ttotal: 3.96s\tremaining: 123ms\n",
            "97:\tlearn: 0.3287576\ttotal: 4s\tremaining: 81.6ms\n",
            "98:\tlearn: 0.3271408\ttotal: 4.04s\tremaining: 40.8ms\n",
            "99:\tlearn: 0.3256727\ttotal: 4.08s\tremaining: 0us\n",
            "Learning rate set to 0.438038\n",
            "0:\tlearn: 0.5741951\ttotal: 40.8ms\tremaining: 4.04s\n",
            "1:\tlearn: 0.5524550\ttotal: 80ms\tremaining: 3.92s\n",
            "2:\tlearn: 0.5364264\ttotal: 120ms\tremaining: 3.88s\n",
            "3:\tlearn: 0.5221485\ttotal: 158ms\tremaining: 3.8s\n",
            "4:\tlearn: 0.5126865\ttotal: 198ms\tremaining: 3.76s\n",
            "5:\tlearn: 0.5038068\ttotal: 238ms\tremaining: 3.73s\n",
            "6:\tlearn: 0.4966693\ttotal: 279ms\tremaining: 3.71s\n",
            "7:\tlearn: 0.4929103\ttotal: 317ms\tremaining: 3.64s\n",
            "8:\tlearn: 0.4889724\ttotal: 354ms\tremaining: 3.58s\n",
            "9:\tlearn: 0.4843466\ttotal: 396ms\tremaining: 3.56s\n",
            "10:\tlearn: 0.4819539\ttotal: 435ms\tremaining: 3.52s\n",
            "11:\tlearn: 0.4776597\ttotal: 474ms\tremaining: 3.47s\n",
            "12:\tlearn: 0.4745518\ttotal: 511ms\tremaining: 3.42s\n",
            "13:\tlearn: 0.4726262\ttotal: 550ms\tremaining: 3.38s\n",
            "14:\tlearn: 0.4678482\ttotal: 588ms\tremaining: 3.33s\n",
            "15:\tlearn: 0.4645186\ttotal: 624ms\tremaining: 3.28s\n",
            "16:\tlearn: 0.4634217\ttotal: 666ms\tremaining: 3.25s\n",
            "17:\tlearn: 0.4624522\ttotal: 701ms\tremaining: 3.19s\n",
            "18:\tlearn: 0.4577683\ttotal: 742ms\tremaining: 3.16s\n",
            "19:\tlearn: 0.4559916\ttotal: 783ms\tremaining: 3.13s\n",
            "20:\tlearn: 0.4534496\ttotal: 822ms\tremaining: 3.09s\n",
            "21:\tlearn: 0.4501152\ttotal: 862ms\tremaining: 3.06s\n",
            "22:\tlearn: 0.4474562\ttotal: 902ms\tremaining: 3.02s\n",
            "23:\tlearn: 0.4453345\ttotal: 942ms\tremaining: 2.98s\n",
            "24:\tlearn: 0.4423224\ttotal: 981ms\tremaining: 2.94s\n",
            "25:\tlearn: 0.4369110\ttotal: 1.02s\tremaining: 2.91s\n",
            "26:\tlearn: 0.4340603\ttotal: 1.07s\tremaining: 2.88s\n",
            "27:\tlearn: 0.4315171\ttotal: 1.11s\tremaining: 2.86s\n",
            "28:\tlearn: 0.4295998\ttotal: 1.15s\tremaining: 2.81s\n",
            "29:\tlearn: 0.4280885\ttotal: 1.19s\tremaining: 2.77s\n",
            "30:\tlearn: 0.4260445\ttotal: 1.23s\tremaining: 2.73s\n",
            "31:\tlearn: 0.4238378\ttotal: 1.27s\tremaining: 2.7s\n",
            "32:\tlearn: 0.4218429\ttotal: 1.31s\tremaining: 2.66s\n",
            "33:\tlearn: 0.4188539\ttotal: 1.35s\tremaining: 2.63s\n",
            "34:\tlearn: 0.4169445\ttotal: 1.4s\tremaining: 2.59s\n",
            "35:\tlearn: 0.4146363\ttotal: 1.44s\tremaining: 2.56s\n",
            "36:\tlearn: 0.4118016\ttotal: 1.48s\tremaining: 2.52s\n",
            "37:\tlearn: 0.4100593\ttotal: 1.52s\tremaining: 2.47s\n",
            "38:\tlearn: 0.4075945\ttotal: 1.56s\tremaining: 2.44s\n",
            "39:\tlearn: 0.4059328\ttotal: 1.6s\tremaining: 2.4s\n",
            "40:\tlearn: 0.4050916\ttotal: 1.64s\tremaining: 2.35s\n",
            "41:\tlearn: 0.4032004\ttotal: 1.67s\tremaining: 2.31s\n",
            "42:\tlearn: 0.4016173\ttotal: 1.72s\tremaining: 2.27s\n",
            "43:\tlearn: 0.3994434\ttotal: 1.76s\tremaining: 2.23s\n",
            "44:\tlearn: 0.3979873\ttotal: 1.8s\tremaining: 2.2s\n",
            "45:\tlearn: 0.3963425\ttotal: 1.84s\tremaining: 2.16s\n",
            "46:\tlearn: 0.3941407\ttotal: 1.88s\tremaining: 2.12s\n",
            "47:\tlearn: 0.3933708\ttotal: 1.91s\tremaining: 2.07s\n",
            "48:\tlearn: 0.3915987\ttotal: 1.95s\tremaining: 2.03s\n",
            "49:\tlearn: 0.3898939\ttotal: 1.99s\tremaining: 1.99s\n",
            "50:\tlearn: 0.3875191\ttotal: 2.03s\tremaining: 1.95s\n",
            "51:\tlearn: 0.3863542\ttotal: 2.07s\tremaining: 1.91s\n",
            "52:\tlearn: 0.3855122\ttotal: 2.11s\tremaining: 1.87s\n",
            "53:\tlearn: 0.3844563\ttotal: 2.15s\tremaining: 1.83s\n",
            "54:\tlearn: 0.3830373\ttotal: 2.19s\tremaining: 1.79s\n",
            "55:\tlearn: 0.3808086\ttotal: 2.23s\tremaining: 1.75s\n",
            "56:\tlearn: 0.3799769\ttotal: 2.27s\tremaining: 1.71s\n",
            "57:\tlearn: 0.3774132\ttotal: 2.31s\tremaining: 1.67s\n",
            "58:\tlearn: 0.3762482\ttotal: 2.35s\tremaining: 1.63s\n",
            "59:\tlearn: 0.3749413\ttotal: 2.39s\tremaining: 1.59s\n",
            "60:\tlearn: 0.3732933\ttotal: 2.43s\tremaining: 1.55s\n",
            "61:\tlearn: 0.3713534\ttotal: 2.47s\tremaining: 1.51s\n",
            "62:\tlearn: 0.3698134\ttotal: 2.51s\tremaining: 1.48s\n",
            "63:\tlearn: 0.3689653\ttotal: 2.55s\tremaining: 1.43s\n",
            "64:\tlearn: 0.3677470\ttotal: 2.59s\tremaining: 1.39s\n",
            "65:\tlearn: 0.3668566\ttotal: 2.63s\tremaining: 1.35s\n",
            "66:\tlearn: 0.3654747\ttotal: 2.67s\tremaining: 1.31s\n",
            "67:\tlearn: 0.3645071\ttotal: 2.71s\tremaining: 1.27s\n",
            "68:\tlearn: 0.3622624\ttotal: 2.75s\tremaining: 1.23s\n",
            "69:\tlearn: 0.3599516\ttotal: 2.79s\tremaining: 1.2s\n",
            "70:\tlearn: 0.3594688\ttotal: 2.83s\tremaining: 1.15s\n",
            "71:\tlearn: 0.3585768\ttotal: 2.87s\tremaining: 1.11s\n",
            "72:\tlearn: 0.3576570\ttotal: 2.9s\tremaining: 1.07s\n",
            "73:\tlearn: 0.3569104\ttotal: 2.95s\tremaining: 1.04s\n",
            "74:\tlearn: 0.3558133\ttotal: 2.99s\tremaining: 996ms\n",
            "75:\tlearn: 0.3549220\ttotal: 3.03s\tremaining: 958ms\n",
            "76:\tlearn: 0.3538285\ttotal: 3.08s\tremaining: 920ms\n",
            "77:\tlearn: 0.3526920\ttotal: 3.12s\tremaining: 881ms\n",
            "78:\tlearn: 0.3521537\ttotal: 3.17s\tremaining: 842ms\n",
            "79:\tlearn: 0.3503784\ttotal: 3.21s\tremaining: 802ms\n",
            "80:\tlearn: 0.3494775\ttotal: 3.24s\tremaining: 761ms\n",
            "81:\tlearn: 0.3484651\ttotal: 3.28s\tremaining: 721ms\n",
            "82:\tlearn: 0.3468402\ttotal: 3.33s\tremaining: 681ms\n",
            "83:\tlearn: 0.3461653\ttotal: 3.36s\tremaining: 640ms\n",
            "84:\tlearn: 0.3453980\ttotal: 3.4s\tremaining: 600ms\n",
            "85:\tlearn: 0.3446767\ttotal: 3.44s\tremaining: 560ms\n",
            "86:\tlearn: 0.3426488\ttotal: 3.48s\tremaining: 520ms\n",
            "87:\tlearn: 0.3418550\ttotal: 3.52s\tremaining: 481ms\n",
            "88:\tlearn: 0.3412457\ttotal: 3.56s\tremaining: 440ms\n",
            "89:\tlearn: 0.3397081\ttotal: 3.6s\tremaining: 400ms\n",
            "90:\tlearn: 0.3387179\ttotal: 3.64s\tremaining: 360ms\n",
            "91:\tlearn: 0.3378855\ttotal: 3.68s\tremaining: 320ms\n",
            "92:\tlearn: 0.3362494\ttotal: 3.72s\tremaining: 280ms\n",
            "93:\tlearn: 0.3356166\ttotal: 3.76s\tremaining: 240ms\n",
            "94:\tlearn: 0.3340850\ttotal: 3.8s\tremaining: 200ms\n",
            "95:\tlearn: 0.3332479\ttotal: 3.84s\tremaining: 160ms\n",
            "96:\tlearn: 0.3313786\ttotal: 3.89s\tremaining: 120ms\n",
            "97:\tlearn: 0.3307831\ttotal: 3.94s\tremaining: 80.4ms\n",
            "98:\tlearn: 0.3299143\ttotal: 3.98s\tremaining: 40.2ms\n",
            "99:\tlearn: 0.3288473\ttotal: 4.03s\tremaining: 0us\n",
            "Learning rate set to 0.438038\n",
            "0:\tlearn: 0.5654195\ttotal: 42.9ms\tremaining: 4.25s\n",
            "1:\tlearn: 0.5424106\ttotal: 82.1ms\tremaining: 4.02s\n",
            "2:\tlearn: 0.5274923\ttotal: 124ms\tremaining: 3.99s\n",
            "3:\tlearn: 0.5187748\ttotal: 160ms\tremaining: 3.84s\n",
            "4:\tlearn: 0.5089065\ttotal: 205ms\tremaining: 3.9s\n",
            "5:\tlearn: 0.5013222\ttotal: 247ms\tremaining: 3.87s\n",
            "6:\tlearn: 0.4961422\ttotal: 288ms\tremaining: 3.82s\n",
            "7:\tlearn: 0.4930217\ttotal: 324ms\tremaining: 3.72s\n",
            "8:\tlearn: 0.4862806\ttotal: 363ms\tremaining: 3.67s\n",
            "9:\tlearn: 0.4819700\ttotal: 404ms\tremaining: 3.64s\n",
            "10:\tlearn: 0.4786308\ttotal: 447ms\tremaining: 3.61s\n",
            "11:\tlearn: 0.4747741\ttotal: 484ms\tremaining: 3.55s\n",
            "12:\tlearn: 0.4731628\ttotal: 521ms\tremaining: 3.48s\n",
            "13:\tlearn: 0.4696053\ttotal: 558ms\tremaining: 3.43s\n",
            "14:\tlearn: 0.4664672\ttotal: 597ms\tremaining: 3.38s\n",
            "15:\tlearn: 0.4621711\ttotal: 638ms\tremaining: 3.35s\n",
            "16:\tlearn: 0.4581108\ttotal: 680ms\tremaining: 3.32s\n",
            "17:\tlearn: 0.4554495\ttotal: 719ms\tremaining: 3.27s\n",
            "18:\tlearn: 0.4528913\ttotal: 759ms\tremaining: 3.24s\n",
            "19:\tlearn: 0.4492960\ttotal: 798ms\tremaining: 3.19s\n",
            "20:\tlearn: 0.4463040\ttotal: 837ms\tremaining: 3.15s\n",
            "21:\tlearn: 0.4441727\ttotal: 882ms\tremaining: 3.13s\n",
            "22:\tlearn: 0.4401977\ttotal: 921ms\tremaining: 3.08s\n",
            "23:\tlearn: 0.4382182\ttotal: 963ms\tremaining: 3.05s\n",
            "24:\tlearn: 0.4346744\ttotal: 1s\tremaining: 3s\n",
            "25:\tlearn: 0.4328785\ttotal: 1.04s\tremaining: 2.97s\n",
            "26:\tlearn: 0.4314260\ttotal: 1.08s\tremaining: 2.93s\n",
            "27:\tlearn: 0.4290334\ttotal: 1.12s\tremaining: 2.89s\n",
            "28:\tlearn: 0.4259752\ttotal: 1.17s\tremaining: 2.85s\n",
            "29:\tlearn: 0.4245854\ttotal: 1.2s\tremaining: 2.8s\n",
            "30:\tlearn: 0.4218144\ttotal: 1.24s\tremaining: 2.77s\n",
            "31:\tlearn: 0.4195894\ttotal: 1.29s\tremaining: 2.73s\n",
            "32:\tlearn: 0.4177066\ttotal: 1.32s\tremaining: 2.68s\n",
            "33:\tlearn: 0.4159888\ttotal: 1.36s\tremaining: 2.63s\n",
            "34:\tlearn: 0.4129199\ttotal: 1.4s\tremaining: 2.59s\n",
            "35:\tlearn: 0.4107032\ttotal: 1.44s\tremaining: 2.55s\n",
            "36:\tlearn: 0.4092560\ttotal: 1.48s\tremaining: 2.52s\n",
            "37:\tlearn: 0.4075678\ttotal: 1.51s\tremaining: 2.47s\n",
            "38:\tlearn: 0.4057765\ttotal: 1.55s\tremaining: 2.42s\n",
            "39:\tlearn: 0.4039516\ttotal: 1.59s\tremaining: 2.38s\n",
            "40:\tlearn: 0.4031743\ttotal: 1.62s\tremaining: 2.34s\n",
            "41:\tlearn: 0.4017075\ttotal: 1.66s\tremaining: 2.3s\n",
            "42:\tlearn: 0.4002108\ttotal: 1.7s\tremaining: 2.26s\n",
            "43:\tlearn: 0.3994116\ttotal: 1.74s\tremaining: 2.21s\n",
            "44:\tlearn: 0.3984002\ttotal: 1.78s\tremaining: 2.17s\n",
            "45:\tlearn: 0.3978171\ttotal: 1.81s\tremaining: 2.13s\n",
            "46:\tlearn: 0.3954635\ttotal: 1.85s\tremaining: 2.08s\n",
            "47:\tlearn: 0.3941345\ttotal: 1.89s\tremaining: 2.05s\n",
            "48:\tlearn: 0.3921248\ttotal: 1.93s\tremaining: 2.01s\n",
            "49:\tlearn: 0.3904953\ttotal: 1.97s\tremaining: 1.97s\n",
            "50:\tlearn: 0.3890782\ttotal: 2.01s\tremaining: 1.93s\n",
            "51:\tlearn: 0.3883743\ttotal: 2.05s\tremaining: 1.89s\n",
            "52:\tlearn: 0.3864552\ttotal: 2.09s\tremaining: 1.85s\n",
            "53:\tlearn: 0.3851509\ttotal: 2.13s\tremaining: 1.81s\n",
            "54:\tlearn: 0.3840792\ttotal: 2.17s\tremaining: 1.78s\n",
            "55:\tlearn: 0.3819905\ttotal: 2.21s\tremaining: 1.74s\n",
            "56:\tlearn: 0.3813169\ttotal: 2.25s\tremaining: 1.7s\n",
            "57:\tlearn: 0.3795752\ttotal: 2.29s\tremaining: 1.66s\n",
            "58:\tlearn: 0.3782990\ttotal: 2.33s\tremaining: 1.62s\n",
            "59:\tlearn: 0.3774795\ttotal: 2.37s\tremaining: 1.58s\n",
            "60:\tlearn: 0.3757894\ttotal: 2.41s\tremaining: 1.54s\n",
            "61:\tlearn: 0.3747794\ttotal: 2.45s\tremaining: 1.5s\n",
            "62:\tlearn: 0.3728549\ttotal: 2.49s\tremaining: 1.46s\n",
            "63:\tlearn: 0.3709012\ttotal: 2.53s\tremaining: 1.43s\n",
            "64:\tlearn: 0.3689428\ttotal: 2.57s\tremaining: 1.39s\n",
            "65:\tlearn: 0.3681420\ttotal: 2.61s\tremaining: 1.34s\n",
            "66:\tlearn: 0.3667765\ttotal: 2.65s\tremaining: 1.31s\n",
            "67:\tlearn: 0.3651231\ttotal: 2.69s\tremaining: 1.27s\n",
            "68:\tlearn: 0.3635397\ttotal: 2.73s\tremaining: 1.23s\n",
            "69:\tlearn: 0.3616218\ttotal: 2.78s\tremaining: 1.19s\n",
            "70:\tlearn: 0.3601330\ttotal: 2.82s\tremaining: 1.15s\n",
            "71:\tlearn: 0.3589987\ttotal: 2.86s\tremaining: 1.11s\n",
            "72:\tlearn: 0.3586320\ttotal: 2.9s\tremaining: 1.07s\n",
            "73:\tlearn: 0.3572557\ttotal: 2.93s\tremaining: 1.03s\n",
            "74:\tlearn: 0.3557056\ttotal: 2.97s\tremaining: 992ms\n",
            "75:\tlearn: 0.3546723\ttotal: 3.01s\tremaining: 952ms\n",
            "76:\tlearn: 0.3526312\ttotal: 3.06s\tremaining: 915ms\n",
            "77:\tlearn: 0.3504839\ttotal: 3.1s\tremaining: 875ms\n",
            "78:\tlearn: 0.3497717\ttotal: 3.14s\tremaining: 835ms\n",
            "79:\tlearn: 0.3482995\ttotal: 3.18s\tremaining: 796ms\n",
            "80:\tlearn: 0.3476336\ttotal: 3.22s\tremaining: 756ms\n",
            "81:\tlearn: 0.3470138\ttotal: 3.26s\tremaining: 717ms\n",
            "82:\tlearn: 0.3455890\ttotal: 3.31s\tremaining: 677ms\n",
            "83:\tlearn: 0.3440444\ttotal: 3.35s\tremaining: 638ms\n",
            "84:\tlearn: 0.3431109\ttotal: 3.38s\tremaining: 597ms\n",
            "85:\tlearn: 0.3426442\ttotal: 3.42s\tremaining: 557ms\n",
            "86:\tlearn: 0.3414502\ttotal: 3.46s\tremaining: 518ms\n",
            "87:\tlearn: 0.3407120\ttotal: 3.5s\tremaining: 478ms\n",
            "88:\tlearn: 0.3399116\ttotal: 3.54s\tremaining: 438ms\n",
            "89:\tlearn: 0.3391746\ttotal: 3.58s\tremaining: 398ms\n",
            "90:\tlearn: 0.3387714\ttotal: 3.62s\tremaining: 358ms\n",
            "91:\tlearn: 0.3370953\ttotal: 3.66s\tremaining: 319ms\n",
            "92:\tlearn: 0.3364544\ttotal: 3.7s\tremaining: 278ms\n",
            "93:\tlearn: 0.3360904\ttotal: 3.74s\tremaining: 239ms\n",
            "94:\tlearn: 0.3349954\ttotal: 3.78s\tremaining: 199ms\n",
            "95:\tlearn: 0.3338223\ttotal: 3.83s\tremaining: 159ms\n",
            "96:\tlearn: 0.3327419\ttotal: 3.86s\tremaining: 120ms\n",
            "97:\tlearn: 0.3319149\ttotal: 3.9s\tremaining: 79.6ms\n",
            "98:\tlearn: 0.3314073\ttotal: 3.94s\tremaining: 39.8ms\n",
            "99:\tlearn: 0.3303580\ttotal: 3.98s\tremaining: 0us\n",
            "Learning rate set to 0.491299\n",
            "0:\tlearn: 0.5636304\ttotal: 52.7ms\tremaining: 5.22s\n",
            "1:\tlearn: 0.5394834\ttotal: 105ms\tremaining: 5.15s\n",
            "2:\tlearn: 0.5275961\ttotal: 158ms\tremaining: 5.1s\n",
            "3:\tlearn: 0.5171508\ttotal: 218ms\tremaining: 5.22s\n",
            "4:\tlearn: 0.5109254\ttotal: 268ms\tremaining: 5.1s\n",
            "5:\tlearn: 0.5046759\ttotal: 315ms\tremaining: 4.94s\n",
            "6:\tlearn: 0.4966639\ttotal: 367ms\tremaining: 4.88s\n",
            "7:\tlearn: 0.4905919\ttotal: 427ms\tremaining: 4.91s\n",
            "8:\tlearn: 0.4860959\ttotal: 477ms\tremaining: 4.82s\n",
            "9:\tlearn: 0.4802757\ttotal: 525ms\tremaining: 4.73s\n",
            "10:\tlearn: 0.4763150\ttotal: 574ms\tremaining: 4.64s\n",
            "11:\tlearn: 0.4722659\ttotal: 621ms\tremaining: 4.55s\n",
            "12:\tlearn: 0.4668026\ttotal: 676ms\tremaining: 4.53s\n",
            "13:\tlearn: 0.4635594\ttotal: 728ms\tremaining: 4.47s\n",
            "14:\tlearn: 0.4607766\ttotal: 778ms\tremaining: 4.41s\n",
            "15:\tlearn: 0.4588114\ttotal: 827ms\tremaining: 4.34s\n",
            "16:\tlearn: 0.4541450\ttotal: 884ms\tremaining: 4.32s\n",
            "17:\tlearn: 0.4526449\ttotal: 931ms\tremaining: 4.24s\n",
            "18:\tlearn: 0.4495353\ttotal: 983ms\tremaining: 4.19s\n",
            "19:\tlearn: 0.4445719\ttotal: 1.04s\tremaining: 4.15s\n",
            "20:\tlearn: 0.4413466\ttotal: 1.09s\tremaining: 4.09s\n",
            "21:\tlearn: 0.4378242\ttotal: 1.14s\tremaining: 4.04s\n",
            "22:\tlearn: 0.4342692\ttotal: 1.19s\tremaining: 3.98s\n",
            "23:\tlearn: 0.4316549\ttotal: 1.24s\tremaining: 3.94s\n",
            "24:\tlearn: 0.4294656\ttotal: 1.29s\tremaining: 3.88s\n",
            "25:\tlearn: 0.4270615\ttotal: 1.34s\tremaining: 3.82s\n",
            "26:\tlearn: 0.4231808\ttotal: 1.4s\tremaining: 3.78s\n",
            "27:\tlearn: 0.4192304\ttotal: 1.45s\tremaining: 3.72s\n",
            "28:\tlearn: 0.4167095\ttotal: 1.5s\tremaining: 3.66s\n",
            "29:\tlearn: 0.4144369\ttotal: 1.55s\tremaining: 3.62s\n",
            "30:\tlearn: 0.4107628\ttotal: 1.61s\tremaining: 3.58s\n",
            "31:\tlearn: 0.4093921\ttotal: 1.65s\tremaining: 3.51s\n",
            "32:\tlearn: 0.4076396\ttotal: 1.71s\tremaining: 3.46s\n",
            "33:\tlearn: 0.4042817\ttotal: 1.76s\tremaining: 3.42s\n",
            "34:\tlearn: 0.4026839\ttotal: 1.81s\tremaining: 3.36s\n",
            "35:\tlearn: 0.4006545\ttotal: 1.86s\tremaining: 3.31s\n",
            "36:\tlearn: 0.3985167\ttotal: 1.91s\tremaining: 3.26s\n",
            "37:\tlearn: 0.3968478\ttotal: 1.97s\tremaining: 3.21s\n",
            "38:\tlearn: 0.3949844\ttotal: 2.01s\tremaining: 3.15s\n",
            "39:\tlearn: 0.3937707\ttotal: 2.06s\tremaining: 3.1s\n",
            "40:\tlearn: 0.3926813\ttotal: 2.12s\tremaining: 3.05s\n",
            "41:\tlearn: 0.3906127\ttotal: 2.17s\tremaining: 3s\n",
            "42:\tlearn: 0.3891767\ttotal: 2.23s\tremaining: 2.96s\n",
            "43:\tlearn: 0.3877857\ttotal: 2.28s\tremaining: 2.9s\n",
            "44:\tlearn: 0.3862264\ttotal: 2.33s\tremaining: 2.85s\n",
            "45:\tlearn: 0.3844266\ttotal: 2.38s\tremaining: 2.8s\n",
            "46:\tlearn: 0.3820909\ttotal: 2.44s\tremaining: 2.75s\n",
            "47:\tlearn: 0.3800332\ttotal: 2.48s\tremaining: 2.69s\n",
            "48:\tlearn: 0.3777574\ttotal: 2.54s\tremaining: 2.65s\n",
            "49:\tlearn: 0.3757777\ttotal: 2.59s\tremaining: 2.59s\n",
            "50:\tlearn: 0.3742539\ttotal: 2.64s\tremaining: 2.54s\n",
            "51:\tlearn: 0.3731341\ttotal: 2.69s\tremaining: 2.48s\n",
            "52:\tlearn: 0.3720456\ttotal: 2.74s\tremaining: 2.43s\n",
            "53:\tlearn: 0.3705293\ttotal: 2.8s\tremaining: 2.38s\n",
            "54:\tlearn: 0.3690771\ttotal: 2.85s\tremaining: 2.33s\n",
            "55:\tlearn: 0.3674848\ttotal: 2.9s\tremaining: 2.28s\n",
            "56:\tlearn: 0.3656354\ttotal: 2.96s\tremaining: 2.23s\n",
            "57:\tlearn: 0.3647175\ttotal: 3.01s\tremaining: 2.18s\n",
            "58:\tlearn: 0.3624837\ttotal: 3.07s\tremaining: 2.13s\n",
            "59:\tlearn: 0.3610810\ttotal: 3.12s\tremaining: 2.08s\n",
            "60:\tlearn: 0.3603845\ttotal: 3.17s\tremaining: 2.03s\n",
            "61:\tlearn: 0.3591574\ttotal: 3.22s\tremaining: 1.97s\n",
            "62:\tlearn: 0.3586116\ttotal: 3.27s\tremaining: 1.92s\n",
            "63:\tlearn: 0.3575706\ttotal: 3.32s\tremaining: 1.87s\n",
            "64:\tlearn: 0.3565259\ttotal: 3.38s\tremaining: 1.82s\n",
            "65:\tlearn: 0.3558221\ttotal: 3.44s\tremaining: 1.77s\n",
            "66:\tlearn: 0.3546816\ttotal: 3.49s\tremaining: 1.72s\n",
            "67:\tlearn: 0.3541044\ttotal: 3.54s\tremaining: 1.67s\n",
            "68:\tlearn: 0.3530415\ttotal: 3.59s\tremaining: 1.61s\n",
            "69:\tlearn: 0.3516976\ttotal: 3.65s\tremaining: 1.56s\n",
            "70:\tlearn: 0.3504205\ttotal: 3.69s\tremaining: 1.51s\n",
            "71:\tlearn: 0.3483559\ttotal: 3.75s\tremaining: 1.46s\n",
            "72:\tlearn: 0.3469897\ttotal: 3.8s\tremaining: 1.41s\n",
            "73:\tlearn: 0.3454391\ttotal: 3.86s\tremaining: 1.35s\n",
            "74:\tlearn: 0.3437773\ttotal: 3.91s\tremaining: 1.3s\n",
            "75:\tlearn: 0.3426555\ttotal: 3.96s\tremaining: 1.25s\n",
            "76:\tlearn: 0.3420531\ttotal: 4.01s\tremaining: 1.2s\n",
            "77:\tlearn: 0.3409758\ttotal: 4.06s\tremaining: 1.15s\n",
            "78:\tlearn: 0.3399043\ttotal: 4.11s\tremaining: 1.09s\n",
            "79:\tlearn: 0.3388291\ttotal: 4.16s\tremaining: 1.04s\n",
            "80:\tlearn: 0.3377061\ttotal: 4.22s\tremaining: 990ms\n",
            "81:\tlearn: 0.3367497\ttotal: 4.27s\tremaining: 938ms\n",
            "82:\tlearn: 0.3361217\ttotal: 4.33s\tremaining: 886ms\n",
            "83:\tlearn: 0.3353874\ttotal: 4.37s\tremaining: 833ms\n",
            "84:\tlearn: 0.3336014\ttotal: 4.43s\tremaining: 782ms\n",
            "85:\tlearn: 0.3328938\ttotal: 4.48s\tremaining: 729ms\n",
            "86:\tlearn: 0.3315049\ttotal: 4.53s\tremaining: 677ms\n",
            "87:\tlearn: 0.3308090\ttotal: 4.58s\tremaining: 625ms\n",
            "88:\tlearn: 0.3297858\ttotal: 4.64s\tremaining: 573ms\n",
            "89:\tlearn: 0.3291345\ttotal: 4.69s\tremaining: 521ms\n",
            "90:\tlearn: 0.3280051\ttotal: 4.74s\tremaining: 469ms\n",
            "91:\tlearn: 0.3272414\ttotal: 4.79s\tremaining: 417ms\n",
            "92:\tlearn: 0.3262518\ttotal: 4.85s\tremaining: 365ms\n",
            "93:\tlearn: 0.3250651\ttotal: 4.9s\tremaining: 313ms\n",
            "94:\tlearn: 0.3247292\ttotal: 4.95s\tremaining: 260ms\n",
            "95:\tlearn: 0.3241376\ttotal: 5s\tremaining: 208ms\n",
            "96:\tlearn: 0.3232004\ttotal: 5.05s\tremaining: 156ms\n",
            "97:\tlearn: 0.3226038\ttotal: 5.1s\tremaining: 104ms\n",
            "98:\tlearn: 0.3219824\ttotal: 5.15s\tremaining: 52ms\n",
            "99:\tlearn: 0.3214133\ttotal: 5.2s\tremaining: 0us\n",
            "AUC:  0.6593599655716255\n"
          ],
          "name": "stdout"
        }
      ]
    },
    {
      "cell_type": "code",
      "metadata": {
        "id": "2UbFdX6F6qOe",
        "colab_type": "code",
        "colab": {}
      },
      "source": [
        "idd=ntest[\"id\"]\n",
        "ntest.drop(['id'], axis=1, inplace=True)\n",
        "final_status = xgb_gscv.predict_proba(ntest)\n",
        "ntest[\"id\"]=idd\n",
        "test[\"redemption_status\"]=final_status[:,1]\n",
        "test.to_csv('model_output.csv',columns=['id','redemption_status'])"
      ],
      "execution_count": 0,
      "outputs": []
    },
    {
      "cell_type": "markdown",
      "metadata": {
        "id": "_tZSHvdM-KAa",
        "colab_type": "text"
      },
      "source": [
        "# R"
      ]
    },
    {
      "cell_type": "code",
      "metadata": {
        "id": "OeQG-uuQ-Mx9",
        "colab_type": "code",
        "colab": {}
      },
      "source": [
        "# activate R magic\n",
        "%load_ext rpy2.ipython"
      ],
      "execution_count": 0,
      "outputs": []
    },
    {
      "cell_type": "code",
      "metadata": {
        "id": "7hT1mc0x-TmA",
        "colab_type": "code",
        "colab": {}
      },
      "source": [
        "%%R\n",
        "#install.packages(\"ROSE\")\n",
        "#install.packages(\"caret\")\n",
        "#install.packages(\"e1071\")\n",
        "install.packages(\"pROC\")"
      ],
      "execution_count": 0,
      "outputs": []
    },
    {
      "cell_type": "code",
      "metadata": {
        "id": "X3N6MS4q-qqN",
        "colab_type": "code",
        "outputId": "1df95781-1706-4a6e-feee-a52c7f9380c4",
        "colab": {
          "base_uri": "https://localhost:8080/",
          "height": 34
        }
      },
      "source": [
        "%%R\n",
        "rm(list=ls())\n",
        "train=read.csv(\"/content/drive/My Drive/My Colab/AmExpert2019/train.csv\",header = T)\n",
        "test=read.csv(\"/content/drive/My Drive/My Colab/AmExpert2019/test.csv\",header = T)\n",
        "table(train$redemption_status)\n",
        "dim(train)\n",
        "\n",
        "idd=test$id\n",
        "train <- subset(train, select = -c(X))\n",
        "test <- subset(test, select = -c(id))\n",
        "\n",
        "cols.num <- colnames(train)\n",
        "train[cols.num] <- sapply(train[cols.num],as.numeric)\n",
        "cols.num <- colnames(test)\n",
        "test[cols.num] <- sapply(test[cols.num],as.numeric)\n",
        "###################################################\n",
        "library(caret)\n",
        "set.seed(5)\n",
        "index <- createDataPartition(train$redemption_status, p=0.80, list=FALSE) #data partition\n",
        "ntrain <- train[ index,]       #Traning data=75%\n",
        "ntest<- train[-index,]         #Test data=25%\n",
        "\n",
        "#######################################################\n",
        "library(ROSE)\n",
        "#data <- ROSE(redemption_status ~ ., data = ntrain, seed = 1)$data\n",
        "#table(data$redemption_status)\n",
        "data.sample <- ovun.sample(redemption_status ~ ., data =ntrain, method = \"over\",N = 124286)$data\n",
        "table(data.sample$redemption_status)\n",
        "#########################################################\n",
        "#DT\n",
        "library(rpart)\n",
        "ntrain$redemption_status=as.factor(ntrain$redemption_status)  # converting response variable in factor\n",
        "data.sample$redemption_status <- factor(data.sample$redemption_status)\n",
        "tree.rose <- rpart(redemption_status ~ ., data = data.sample)\n",
        "pred.tree.rose <- predict(tree.rose, newdata = ntest)\n",
        "for_auc=predict(tree.rose,ntest,type=\"prob\")\n",
        "library(pROC)\n",
        "a=auc(ntest$redemption_status,for_auc[,2])\n",
        "a\n",
        "#RF\n",
        "install.packages(\"randomForest\")\n",
        "library(randomForest)\n",
        "ntrain$redemption_status=as.factor(ntrain$redemption_status)  # converting response variable in factor\n",
        "data.sample$redemption_status <- factor(data.sample$redemption_status)\n",
        "rf.rose <- randomForest(redemption_status ~ ., data = data.sample)\n",
        "pred.rf.rose <- predict(rf.rose, newdata = ntest)\n",
        "for_auc=predict(rf.rose,ntest,type=\"prob\")\n",
        "library(pROC)\n",
        "a=auc(ntest$redemption_status,for_auc[,2])\n",
        "a"
      ],
      "execution_count": 0,
      "outputs": [
        {
          "output_type": "display_data",
          "data": {
            "text/plain": [
              "Area under the curve: 0.6926\n"
            ]
          },
          "metadata": {
            "tags": []
          }
        }
      ]
    },
    {
      "cell_type": "code",
      "metadata": {
        "id": "1rsCenTRlAf9",
        "colab_type": "code",
        "colab": {}
      },
      "source": [
        "%%R\n",
        "pred=predict(rf.rose,test,type = \"class\")\n",
        "submit <- data.frame(id= idd, redemption_status =pred)\n",
        "#submit$redemption_status=ifelse(submit$redemption_status=='0.246354049809289',1,0)\n",
        "write.csv(submit, file = \"result.csv\", row.names = FALSE)\n"
      ],
      "execution_count": 0,
      "outputs": []
    },
    {
      "cell_type": "markdown",
      "metadata": {
        "id": "0sQNRD_n69Fc",
        "colab_type": "text"
      },
      "source": [
        "## H2O + R"
      ]
    },
    {
      "cell_type": "code",
      "metadata": {
        "id": "GzMNV8YI0zG3",
        "colab_type": "code",
        "outputId": "86e28581-4d64-4845-e777-a9c7f95f472d",
        "colab": {
          "base_uri": "https://localhost:8080/",
          "height": 1000
        }
      },
      "source": [
        "%%R\n",
        "install.packages(\"h2o\")\n",
        "library(h2o)\n",
        "h2o.init()"
      ],
      "execution_count": 0,
      "outputs": [
        {
          "output_type": "stream",
          "text": [
            "/usr/local/lib/python3.6/dist-packages/rpy2/rinterface/__init__.py:146: RRuntimeWarning: also installing the dependencies ‘bitops’, ‘RCurl’\n",
            "\n",
            "\n",
            "  warnings.warn(x, RRuntimeWarning)\n",
            "/usr/local/lib/python3.6/dist-packages/rpy2/rinterface/__init__.py:146: RRuntimeWarning: trying URL 'https://cran.rstudio.com/src/contrib/bitops_1.0-6.tar.gz'\n",
            "\n",
            "  warnings.warn(x, RRuntimeWarning)\n",
            "/usr/local/lib/python3.6/dist-packages/rpy2/rinterface/__init__.py:146: RRuntimeWarning:  length 8734 bytes\n",
            "\n",
            "  warnings.warn(x, RRuntimeWarning)\n",
            "/usr/local/lib/python3.6/dist-packages/rpy2/rinterface/__init__.py:146: RRuntimeWarning: downloaded 8734 bytes\n",
            "\n",
            "\n",
            "  warnings.warn(x, RRuntimeWarning)\n",
            "/usr/local/lib/python3.6/dist-packages/rpy2/rinterface/__init__.py:146: RRuntimeWarning: trying URL 'https://cran.rstudio.com/src/contrib/RCurl_1.95-4.12.tar.gz'\n",
            "\n",
            "  warnings.warn(x, RRuntimeWarning)\n",
            "/usr/local/lib/python3.6/dist-packages/rpy2/rinterface/__init__.py:146: RRuntimeWarning:  length 916763 bytes (895 KB)\n",
            "\n",
            "  warnings.warn(x, RRuntimeWarning)\n",
            "/usr/local/lib/python3.6/dist-packages/rpy2/rinterface/__init__.py:146: RRuntimeWarning: downloaded 895 KB\n",
            "\n",
            "\n",
            "  warnings.warn(x, RRuntimeWarning)\n",
            "/usr/local/lib/python3.6/dist-packages/rpy2/rinterface/__init__.py:146: RRuntimeWarning: trying URL 'https://cran.rstudio.com/src/contrib/h2o_3.26.0.2.tar.gz'\n",
            "\n",
            "  warnings.warn(x, RRuntimeWarning)\n",
            "/usr/local/lib/python3.6/dist-packages/rpy2/rinterface/__init__.py:146: RRuntimeWarning:  length 455041 bytes (444 KB)\n",
            "\n",
            "  warnings.warn(x, RRuntimeWarning)\n",
            "/usr/local/lib/python3.6/dist-packages/rpy2/rinterface/__init__.py:146: RRuntimeWarning: downloaded 444 KB\n",
            "\n",
            "\n",
            "  warnings.warn(x, RRuntimeWarning)\n",
            "/usr/local/lib/python3.6/dist-packages/rpy2/rinterface/__init__.py:146: RRuntimeWarning: \n",
            "----------------------------------------------------------------------\n",
            "\n",
            "Your next step is to start H2O:\n",
            "    > h2o.init()\n",
            "\n",
            "For H2O package documentation, ask for help:\n",
            "    > ??h2o\n",
            "\n",
            "After starting H2O, you can use the Web UI at http://localhost:54321\n",
            "For more information visit http://docs.h2o.ai\n",
            "\n",
            "----------------------------------------------------------------------\n",
            "\n",
            "\n",
            "  warnings.warn(x, RRuntimeWarning)\n",
            "/usr/local/lib/python3.6/dist-packages/rpy2/rinterface/__init__.py:146: RRuntimeWarning: \n",
            "Attaching package: ‘h2o’\n",
            "\n",
            "\n",
            "  warnings.warn(x, RRuntimeWarning)\n",
            "/usr/local/lib/python3.6/dist-packages/rpy2/rinterface/__init__.py:146: RRuntimeWarning: The following objects are masked from ‘package:stats’:\n",
            "\n",
            "    cor, sd, var\n",
            "\n",
            "\n",
            "  warnings.warn(x, RRuntimeWarning)\n",
            "/usr/local/lib/python3.6/dist-packages/rpy2/rinterface/__init__.py:146: RRuntimeWarning: The following objects are masked from ‘package:base’:\n",
            "\n",
            "    &&, %*%, %in%, ||, apply, as.factor, as.numeric, colnames,\n",
            "    colnames<-, ifelse, is.character, is.factor, is.numeric, log,\n",
            "    log10, log1p, log2, round, signif, trunc\n",
            "\n",
            "\n",
            "  warnings.warn(x, RRuntimeWarning)\n"
          ],
          "name": "stderr"
        },
        {
          "output_type": "display_data",
          "data": {
            "text/plain": [
              "\n",
              "H2O is not running yet, starting it now...\n",
              "\n",
              "Note:  In case of errors look at the following log files:\n",
              "    /tmp/RtmpUcMCqO/h2o_UnknownUser_started_from_r.out\n",
              "    /tmp/RtmpUcMCqO/h2o_UnknownUser_started_from_r.err\n",
              "\n",
              "\n",
              "Starting H2O JVM and connecting: .. Connection successful!\n",
              "\n",
              "R is connected to the H2O cluster: \n",
              "    H2O cluster uptime:         2 seconds 637 milliseconds \n",
              "    H2O cluster timezone:       Etc/UTC \n",
              "    H2O data parsing timezone:  UTC \n",
              "    H2O cluster version:        3.26.0.2 \n",
              "    H2O cluster version age:    2 months and 5 days  \n",
              "    H2O cluster name:           H2O_started_from_R_root_vgj064 \n",
              "    H2O cluster total nodes:    1 \n",
              "    H2O cluster total memory:   6.25 GB \n",
              "    H2O cluster total cores:    4 \n",
              "    H2O cluster allowed cores:  4 \n",
              "    H2O cluster healthy:        TRUE \n",
              "    H2O Connection ip:          localhost \n",
              "    H2O Connection port:        54321 \n",
              "    H2O Connection proxy:       NA \n",
              "    H2O Internal Security:      FALSE \n",
              "    H2O API Extensions:         Amazon S3, XGBoost, Algos, AutoML, Core V3, Core V4 \n",
              "    R Version:                  R version 3.6.1 (2019-07-05) \n",
              "\n"
            ]
          },
          "metadata": {
            "tags": []
          }
        }
      ]
    },
    {
      "cell_type": "code",
      "metadata": {
        "id": "krAOw84t8cU8",
        "colab_type": "code",
        "outputId": "3ce00a7d-1ddb-4b02-e971-63c0578aa6d9",
        "colab": {
          "base_uri": "https://localhost:8080/",
          "height": 258
        }
      },
      "source": [
        "%%R\n",
        "rm(list=ls())\n",
        "train=read.csv(\"/content/drive/My Drive/My Colab/AmExpert2019/train.csv\",header = T)\n",
        "test=read.csv(\"/content/drive/My Drive/My Colab/AmExpert2019/test.csv\",header = T)\n",
        "table(train$redemption_status)\n",
        "dim(train)\n",
        "\n",
        "idd=test$id\n",
        "train <- subset(train, select = -c(X))\n",
        "test <- subset(test, select = -c(id))\n",
        "\n",
        "cols.num <- colnames(train)\n",
        "train[cols.num] <- sapply(train[cols.num],as.numeric)\n",
        "cols.num <- colnames(test)\n",
        "test[cols.num] <- sapply(test[cols.num],as.numeric)\n",
        "###################################################\n",
        "library(caret)\n",
        "set.seed(5)\n",
        "index <- createDataPartition(train$redemption_status, p=0.80, list=FALSE) #data partition\n",
        "ntrain <- train[ index,]       #Traning data=75%\n",
        "ntest<- train[-index,]         #Test data=25%\n",
        "\n",
        "#######################################################\n",
        "library(ROSE)\n",
        "data.sample <- ovun.sample(redemption_status ~ ., data =ntrain, method = \"over\",N = 124286)$data\n",
        "table(data.sample$redemption_status)"
      ],
      "execution_count": 0,
      "outputs": [
        {
          "output_type": "stream",
          "text": [
            "/usr/local/lib/python3.6/dist-packages/rpy2/rinterface/__init__.py:146: RRuntimeWarning: Loading required package: lattice\n",
            "\n",
            "  warnings.warn(x, RRuntimeWarning)\n",
            "/usr/local/lib/python3.6/dist-packages/rpy2/rinterface/__init__.py:146: RRuntimeWarning: Loading required package: ggplot2\n",
            "\n",
            "  warnings.warn(x, RRuntimeWarning)\n",
            "/usr/local/lib/python3.6/dist-packages/rpy2/rinterface/__init__.py:146: RRuntimeWarning: Loaded ROSE 0.0-3\n",
            "\n",
            "\n",
            "  warnings.warn(x, RRuntimeWarning)\n"
          ],
          "name": "stderr"
        },
        {
          "output_type": "display_data",
          "data": {
            "text/plain": [
              "\n",
              "    0     1 \n",
              "62107 62179 \n"
            ]
          },
          "metadata": {
            "tags": []
          }
        }
      ]
    },
    {
      "cell_type": "code",
      "metadata": {
        "id": "KHLOnr3O89mc",
        "colab_type": "code",
        "outputId": "917a7c84-5de1-4e04-ca58-f3b14ccb4aa9",
        "colab": {
          "base_uri": "https://localhost:8080/",
          "height": 68
        }
      },
      "source": [
        "%%R\n",
        "data.sample=as.h2o(data.sample)\n",
        "ntest=as.h2o(ntest)\n",
        "test=as.h2o(test)"
      ],
      "execution_count": 0,
      "outputs": [
        {
          "output_type": "display_data",
          "data": {
            "text/plain": [
              "\r  |                                                                            \r  |                                                                      |   0%\r  |                                                                            \r  |======================================================================| 100%\n",
              "\r  |                                                                            \r  |                                                                      |   0%\r  |                                                                            \r  |======================================================================| 100%\n",
              "\r  |                                                                            \r  |                                                                      |   0%\r  |                                                                            \r  |======================================================================| 100%\n"
            ]
          },
          "metadata": {
            "tags": []
          }
        }
      ]
    },
    {
      "cell_type": "code",
      "metadata": {
        "id": "_wkXRRtrBAm3",
        "colab_type": "code",
        "colab": {}
      },
      "source": [
        "%%R\n",
        "# Identify predictors and response\n",
        "y <- \"redemption_status\"\n",
        "x <- setdiff(names(data.sample), y)\n",
        "\n",
        "# For binary classification, response should be a factor\n",
        "data.sample[,y] <- as.factor(data.sample[,y])\n",
        "ntest[,y] <- as.factor(ntest[,y])\n"
      ],
      "execution_count": 0,
      "outputs": []
    },
    {
      "cell_type": "code",
      "metadata": {
        "id": "J2Z0wFaVBSj4",
        "colab_type": "code",
        "outputId": "b158f9bb-4a1a-4eab-ddc2-6f869e254e2b",
        "colab": {
          "base_uri": "https://localhost:8080/",
          "height": 34
        }
      },
      "source": [
        "%%R\n",
        "# Run AutoML for 20 base models (limited to 1 hour max runtime by default)\n",
        "aml <- h2o.automl(x = x, y = y,\n",
        "                  training_frame = data.sample,\n",
        "                  max_models = 20,\n",
        "                  seed = 1)\n",
        "\n",
        "# View the AutoML Leaderboard\n",
        "lb <- aml@leaderboard"
      ],
      "execution_count": 0,
      "outputs": [
        {
          "output_type": "display_data",
          "data": {
            "text/plain": [
              "\r  |                                                                            \r  |                                                                      |   0%\r  |                                                                            \r  |                                                                      |   1%\r  |                                                                            \r  |=                                                                     |   1%\r  |                                                                            \r  |=                                                                     |   2%\r  |                                                                            \r  |==                                                                    |   2%\r  |                                                                            \r  |==                                                                    |   3%\r  |                                                                            \r  |==                                                                    |   4%\r  |                                                                            \r  |===                                                                   |   4%\r  |                                                                            \r  |===                                                                   |   5%\r  |                                                                            \r  |====                                                                  |   5%\r  |                                                                            \r  |====                                                                  |   6%\r  |                                                                            \r  |=====                                                                 |   6%\r  |                                                                            \r  |=====                                                                 |   7%\r  |                                                                            \r  |=====                                                                 |   8%\r  |                                                                            \r  |======                                                                |   8%\r  |                                                                            \r  |======                                                                |   9%\r  |                                                                            \r  |=======                                                               |   9%\r  |                                                                            \r  |=======                                                               |  10%\r  |                                                                            \r  |=======                                                               |  11%\r  |                                                                            \r  |========                                                              |  11%\r  |                                                                            \r  |========                                                              |  12%\r  |                                                                            \r  |=========                                                             |  12%\r  |                                                                            \r  |=========                                                             |  13%\r  |                                                                            \r  |=========                                                             |  14%\r  |                                                                            \r  |==========                                                            |  14%\r  |                                                                            \r  |==========                                                            |  15%\r  |                                                                            \r  |===========                                                           |  15%\r  |                                                                            \r  |===========                                                           |  16%\r  |                                                                            \r  |============                                                          |  16%\r  |                                                                            \r  |============                                                          |  17%\r  |                                                                            \r  |============                                                          |  18%\r  |                                                                            \r  |=============                                                         |  18%\r  |                                                                            \r  |=============                                                         |  19%\r  |                                                                            \r  |==============                                                        |  19%\r  |                                                                            \r  |==============                                                        |  20%\r  |                                                                            \r  |==============                                                        |  21%\r  |                                                                            \r  |===============                                                       |  21%\r  |                                                                            \r  |===============                                                       |  22%\r  |                                                                            \r  |================                                                      |  22%\r  |                                                                            \r  |================                                                      |  23%\r  |                                                                            \r  |================                                                      |  24%\r  |                                                                            \r  |=================                                                     |  24%\r  |                                                                            \r  |=================                                                     |  25%\r  |                                                                            \r  |==================                                                    |  25%\r  |                                                                            \r  |==================                                                    |  26%\r  |                                                                            \r  |===================                                                   |  26%\r  |                                                                            \r  |===================                                                   |  27%\r  |                                                                            \r  |===================                                                   |  28%\r  |                                                                            \r  |====================                                                  |  28%\r  |                                                                            \r  |====================                                                  |  29%\r  |                                                                            \r  |=====================                                                 |  29%\r  |                                                                            \r  |=====================                                                 |  30%\r  |                                                                            \r  |=====================                                                 |  31%\r  |                                                                            \r  |======================                                                |  31%\r  |                                                                            \r  |======================                                                |  32%\r  |                                                                            \r  |=======================                                               |  32%\r  |                                                                            \r  |=======================                                               |  33%\r  |                                                                            \r  |=======================                                               |  34%\r  |                                                                            \r  |========================                                              |  34%\r  |                                                                            \r  |========================                                              |  35%\r  |                                                                            \r  |=========================                                             |  35%\r  |                                                                            \r  |=========================                                             |  36%\r  |                                                                            \r  |==========================                                            |  36%\r  |                                                                            \r  |==========================                                            |  37%\r  |                                                                            \r  |==========================                                            |  38%\r  |                                                                            \r  |===========================                                           |  38%\r  |                                                                            \r  |===========================                                           |  39%\r  |                                                                            \r  |============================                                          |  39%\r  |                                                                            \r  |============================                                          |  40%\r  |                                                                            \r  |============================                                          |  41%\r  |                                                                            \r  |=============================                                         |  41%\r  |                                                                            \r  |=============================                                         |  42%\r  |                                                                            \r  |==============================                                        |  42%\r  |                                                                            \r  |==============================                                        |  43%\r  |                                                                            \r  |==============================                                        |  44%\r  |                                                                            \r  |===============================                                       |  44%\r  |                                                                            \r  |===============================                                       |  45%\r  |                                                                            \r  |================================                                      |  45%\r  |                                                                            \r  |================================                                      |  46%\r  |                                                                            \r  |=================================                                     |  46%\r  |                                                                            \r  |=================================                                     |  47%\r  |                                                                            \r  |=================================                                     |  48%\r  |                                                                            \r  |==================================                                    |  48%\r  |                                                                            \r  |==================================                                    |  49%\r  |                                                                            \r  |===================================                                   |  49%\r  |                                                                            \r  |===================================                                   |  50%\r  |                                                                            \r  |===================================                                   |  51%\r  |                                                                            \r  |====================================                                  |  51%\r  |                                                                            \r  |====================================                                  |  52%\r  |                                                                            \r  |=====================================                                 |  52%\r  |                                                                            \r  |=====================================                                 |  53%\r  |                                                                            \r  |=====================================                                 |  54%\r  |                                                                            \r  |======================================                                |  54%\r  |                                                                            \r  |======================================                                |  55%\r  |                                                                            \r  |=======================================                               |  55%\r  |                                                                            \r  |=======================================                               |  56%\r  |                                                                            \r  |========================================                              |  56%\r  |                                                                            \r  |========================================                              |  57%\r  |                                                                            \r  |========================================                              |  58%\r  |                                                                            \r  |=========================================                             |  58%\r  |                                                                            \r  |=========================================                             |  59%\r  |                                                                            \r  |==========================================                            |  59%\r  |                                                                            \r  |==========================================                            |  60%\r  |                                                                            \r  |==========================================                            |  61%\r  |                                                                            \r  |===========================================                           |  61%\r  |                                                                            \r  |===========================================                           |  62%\r  |                                                                            \r  |============================================                          |  62%\r  |                                                                            \r  |============================================                          |  63%\r  |                                                                            \r  |============================================                          |  64%\r  |                                                                            \r  |=============================================                         |  64%\r  |                                                                            \r  |=============================================                         |  65%\r  |                                                                            \r  |==============================================                        |  65%\r  |                                                                            \r  |==============================================                        |  66%\r  |                                                                            \r  |===============================================                       |  66%\r  |                                                                            \r  |===============================================                       |  67%\r  |                                                                            \r  |===============================================                       |  68%\r  |                                                                            \r  |================================================                      |  68%\r  |                                                                            \r  |================================================                      |  69%\r  |                                                                            \r  |=================================================                     |  69%\r  |                                                                            \r  |=================================================                     |  70%\r  |                                                                            \r  |=================================================                     |  71%\r  |                                                                            \r  |==================================================                    |  71%\r  |                                                                            \r  |==================================================                    |  72%\r  |                                                                            \r  |===================================================                   |  72%\r  |                                                                            \r  |===================================================                   |  73%\r  |                                                                            \r  |===================================================                   |  74%\r  |                                                                            \r  |====================================================                  |  74%\r  |                                                                            \r  |====================================================                  |  75%\r  |                                                                            \r  |=====================================================                 |  75%\r  |                                                                            \r  |=====================================================                 |  76%\r  |                                                                            \r  |======================================================                |  76%\r  |                                                                            \r  |======================================================                |  77%\r  |                                                                            \r  |======================================================                |  78%\r  |                                                                            \r  |=======================================================               |  78%\r  |                                                                            \r  |=======================================================               |  79%\r  |                                                                            \r  |========================================================              |  79%\r  |                                                                            \r  |========================================================              |  80%\r  |                                                                            \r  |========================================================              |  81%\r  |                                                                            \r  |=========================================================             |  81%\r  |                                                                            \r  |=========================================================             |  82%\r  |                                                                            \r  |==========================================================            |  82%\r  |                                                                            \r  |==========================================================            |  83%\r  |                                                                            \r  |==========================================================            |  84%\r  |                                                                            \r  |===========================================================           |  84%\r  |                                                                            \r  |===========================================================           |  85%\r  |                                                                            \r  |============================================================          |  85%\r  |                                                                            \r  |============================================================          |  86%\r  |                                                                            \r  |=============================================================         |  86%\r  |                                                                            \r  |=============================================================         |  87%\r  |                                                                            \r  |=============================================================         |  88%\r  |                                                                            \r  |==============================================================        |  88%\r  |                                                                            \r  |==============================================================        |  89%\r  |                                                                            \r  |===============================================================       |  89%\r  |                                                                            \r  |===============================================================       |  90%\r  |                                                                            \r  |===============================================================       |  91%\r  |                                                                            \r  |================================================================      |  91%\r  |                                                                            \r  |================================================================      |  92%\r  |                                                                            \r  |=================================================================     |  92%\r  |                                                                            \r  |=================================================================     |  93%\r  |                                                                            \r  |=================================================================     |  94%\r  |                                                                            \r  |==================================================================    |  94%\r  |                                                                            \r  |==================================================================    |  95%\r  |                                                                            \r  |===================================================================   |  95%\r  |                                                                            \r  |===================================================================   |  96%\r  |                                                                            \r  |====================================================================  |  96%\r  |                                                                            \r  |====================================================================  |  97%\r  |                                                                            \r  |====================================================================  |  98%\r  |                                                                            \r  |===================================================================== |  98%\r  |                                                                            \r  |===================================================================== |  99%\r  |                                                                            \r  |======================================================================|  99%\r  |                                                                            \r  |======================================================================| 100%\n"
            ]
          },
          "metadata": {
            "tags": []
          }
        }
      ]
    },
    {
      "cell_type": "code",
      "metadata": {
        "id": "yLaNy-RsBbpI",
        "colab_type": "code",
        "outputId": "a82777ff-5d29-40bd-8133-d3cdaee98ac1",
        "colab": {
          "base_uri": "https://localhost:8080/",
          "height": 221
        }
      },
      "source": [
        "%%R\n",
        "lb"
      ],
      "execution_count": 0,
      "outputs": [
        {
          "output_type": "display_data",
          "data": {
            "text/plain": [
              "                                             model_id       auc    logloss\n",
              "1 StackedEnsemble_BestOfFamily_AutoML_20191002_150304 0.9984764 0.03489959\n",
              "2                    XGBoost_1_AutoML_20191002_150304 0.9984757 0.07720477\n",
              "3    StackedEnsemble_AllModels_AutoML_20191002_150304 0.9983649 0.03215518\n",
              "4                    XGBoost_2_AutoML_20191002_150304 0.9969771 0.12453055\n",
              "  mean_per_class_error       rmse         mse\n",
              "1          0.004266028 0.08763605 0.007680077\n",
              "2          0.004258183 0.12300027 0.015129067\n",
              "3          0.004660704 0.08403435 0.007061771\n",
              "4          0.008098926 0.16087046 0.025879304\n",
              "\n",
              "[4 rows x 6 columns] \n"
            ]
          },
          "metadata": {
            "tags": []
          }
        }
      ]
    },
    {
      "cell_type": "code",
      "metadata": {
        "id": "L98Dmz1Se96q",
        "colab_type": "code",
        "outputId": "2bae3e49-add6-4fd1-acb4-b65076f87bce",
        "colab": {
          "base_uri": "https://localhost:8080/",
          "height": 34
        }
      },
      "source": [
        "%%R\n",
        "pred <- h2o.predict(aml@leader, test)"
      ],
      "execution_count": 0,
      "outputs": [
        {
          "output_type": "display_data",
          "data": {
            "text/plain": [
              "\r  |                                                                            \r  |                                                                      |   0%\r  |                                                                            \r  |======================================================================| 100%\n"
            ]
          },
          "metadata": {
            "tags": []
          }
        }
      ]
    },
    {
      "cell_type": "code",
      "metadata": {
        "id": "EBaJpmkyRl0A",
        "colab_type": "code",
        "outputId": "91939f53-4daa-4042-ebbf-cf5291a5ed75",
        "colab": {
          "base_uri": "https://localhost:8080/",
          "height": 170
        }
      },
      "source": [
        "%%R\n",
        "pred"
      ],
      "execution_count": 0,
      "outputs": [
        {
          "output_type": "display_data",
          "data": {
            "text/plain": [
              "  predict        p0           p1\n",
              "1       0 0.9998538 1.462060e-04\n",
              "2       0 0.9999331 6.689913e-05\n",
              "3       0 0.9999231 7.686060e-05\n",
              "4       0 0.9999355 6.446786e-05\n",
              "5       0 0.9999328 6.716931e-05\n",
              "6       0 0.9999360 6.400892e-05\n",
              "\n",
              "[50226 rows x 3 columns] \n"
            ]
          },
          "metadata": {
            "tags": []
          }
        }
      ]
    },
    {
      "cell_type": "code",
      "metadata": {
        "id": "zZoOP2JCfFiT",
        "colab_type": "code",
        "outputId": "2a10fd41-86b3-4e8c-ded1-d54d3737ab9c",
        "colab": {
          "base_uri": "https://localhost:8080/",
          "height": 136
        }
      },
      "source": [
        "%%R\n",
        "pred=as.data.frame(pred$predict)\n",
        "result=cbind(idd,pred)\n",
        "head(result)"
      ],
      "execution_count": 0,
      "outputs": [
        {
          "output_type": "display_data",
          "data": {
            "text/plain": [
              "  idd predict\n",
              "1   3       0\n",
              "2   4       0\n",
              "3   5       0\n",
              "4   8       0\n",
              "5  10       0\n",
              "6  12       0\n"
            ]
          },
          "metadata": {
            "tags": []
          }
        }
      ]
    },
    {
      "cell_type": "code",
      "metadata": {
        "id": "_jMcrvh2i9LY",
        "colab_type": "code",
        "colab": {}
      },
      "source": [
        "%%R\n",
        "write.csv(result, file = \"result.csv\", row.names = FALSE)"
      ],
      "execution_count": 0,
      "outputs": []
    },
    {
      "cell_type": "markdown",
      "metadata": {
        "id": "EA7oEwCt6t7M",
        "colab_type": "text"
      },
      "source": [
        "## H2O"
      ]
    },
    {
      "cell_type": "code",
      "metadata": {
        "id": "F1-xFBzJ-geh",
        "colab_type": "code",
        "outputId": "a52c4d7a-b6bb-48c9-baac-de0beee66d38",
        "colab": {
          "base_uri": "https://localhost:8080/",
          "height": 419
        }
      },
      "source": [
        "pip install -f http://h2o-release.s3.amazonaws.com/h2o/latest_stable_Py.html h2o"
      ],
      "execution_count": 0,
      "outputs": [
        {
          "output_type": "stream",
          "text": [
            "Looking in links: http://h2o-release.s3.amazonaws.com/h2o/latest_stable_Py.html\n",
            "Collecting h2o\n",
            "\u001b[33m  WARNING: The repository located at h2o-release.s3.amazonaws.com is not a trusted or secure host and is being ignored. If this repository is available via HTTPS we recommend you use HTTPS instead, otherwise you may silence this warning and allow it anyway with '--trusted-host h2o-release.s3.amazonaws.com'.\u001b[0m\n",
            "\u001b[?25l  Downloading https://files.pythonhosted.org/packages/ff/24/c20dc233e0d85b36a66544377c01c2740219a74f78f82872f2f503a39774/h2o-3.26.0.6.tar.gz (123.6MB)\n",
            "\u001b[K     |████████████████████████████████| 123.6MB 1.1MB/s \n",
            "\u001b[?25hRequirement already satisfied: requests in /usr/local/lib/python3.6/dist-packages (from h2o) (2.21.0)\n",
            "Requirement already satisfied: tabulate in /usr/local/lib/python3.6/dist-packages (from h2o) (0.8.5)\n",
            "Requirement already satisfied: future in /usr/local/lib/python3.6/dist-packages (from h2o) (0.16.0)\n",
            "Collecting colorama>=0.3.8 (from h2o)\n",
            "\u001b[33m  WARNING: The repository located at h2o-release.s3.amazonaws.com is not a trusted or secure host and is being ignored. If this repository is available via HTTPS we recommend you use HTTPS instead, otherwise you may silence this warning and allow it anyway with '--trusted-host h2o-release.s3.amazonaws.com'.\u001b[0m\n",
            "  Downloading https://files.pythonhosted.org/packages/4f/a6/728666f39bfff1719fc94c481890b2106837da9318031f71a8424b662e12/colorama-0.4.1-py2.py3-none-any.whl\n",
            "Requirement already satisfied: certifi>=2017.4.17 in /usr/local/lib/python3.6/dist-packages (from requests->h2o) (2019.9.11)\n",
            "Requirement already satisfied: idna<2.9,>=2.5 in /usr/local/lib/python3.6/dist-packages (from requests->h2o) (2.8)\n",
            "Requirement already satisfied: urllib3<1.25,>=1.21.1 in /usr/local/lib/python3.6/dist-packages (from requests->h2o) (1.24.3)\n",
            "Requirement already satisfied: chardet<3.1.0,>=3.0.2 in /usr/local/lib/python3.6/dist-packages (from requests->h2o) (3.0.4)\n",
            "Building wheels for collected packages: h2o\n",
            "  Building wheel for h2o (setup.py) ... \u001b[?25l\u001b[?25hdone\n",
            "  Created wheel for h2o: filename=h2o-3.26.0.6-py2.py3-none-any.whl size=123690782 sha256=c9476653e1f58ec77976a349eb8d7d212145062ff3734eb40faf9c4999d4e663\n",
            "  Stored in directory: /root/.cache/pip/wheels/eb/1a/72/252857fc093eaad70a7f91ddbcabf1dafd38fb5e6c02bcf9b3\n",
            "Successfully built h2o\n",
            "Installing collected packages: colorama, h2o\n",
            "Successfully installed colorama-0.4.1 h2o-3.26.0.6\n"
          ],
          "name": "stdout"
        }
      ]
    },
    {
      "cell_type": "code",
      "metadata": {
        "id": "cYMOkh8WYL0_",
        "colab_type": "code",
        "outputId": "e0dbc11c-75a0-4db4-86e6-a98a5321be4d",
        "colab": {
          "base_uri": "https://localhost:8080/",
          "height": 803
        }
      },
      "source": [
        "import pandas as pd\n",
        "import numpy as np\n",
        "from sklearn.metrics import confusion_matrix\n",
        "from sklearn.preprocessing import StandardScaler\n",
        "from keras.utils import np_utils\n",
        "from sklearn.metrics import accuracy_score\n",
        "from xgboost import XGBClassifier\n",
        "import h2o\n",
        "import math\n",
        "from h2o.estimators.gbm import H2OGradientBoostingEstimator\n",
        "from h2o.estimators.random_forest import H2ORandomForestEstimator\n",
        "from h2o.estimators.stackedensemble import H2OStackedEnsembleEstimator\n",
        "from h2o.grid.grid_search import H2OGridSearch\n",
        "from sklearn.model_selection import train_test_split\n",
        "from h2o.automl import H2OAutoML\n",
        "h2o.init(nthreads=-1, strict_version_check=True)"
      ],
      "execution_count": 0,
      "outputs": [
        {
          "output_type": "stream",
          "text": [
            "Using TensorFlow backend.\n"
          ],
          "name": "stderr"
        },
        {
          "output_type": "stream",
          "text": [
            "Checking whether there is an H2O instance running at http://localhost:54321 ..... not found.\n",
            "Attempting to start a local H2O server...\n",
            "  Java Version: openjdk version \"11.0.4\" 2019-07-16; OpenJDK Runtime Environment (build 11.0.4+11-post-Ubuntu-1ubuntu218.04.3); OpenJDK 64-Bit Server VM (build 11.0.4+11-post-Ubuntu-1ubuntu218.04.3, mixed mode, sharing)\n",
            "  Starting server from /usr/local/lib/python3.6/dist-packages/h2o/backend/bin/h2o.jar\n",
            "  Ice root: /tmp/tmpou4i8vjj\n",
            "  JVM stdout: /tmp/tmpou4i8vjj/h2o_unknownUser_started_from_python.out\n",
            "  JVM stderr: /tmp/tmpou4i8vjj/h2o_unknownUser_started_from_python.err\n",
            "  Server is running at http://127.0.0.1:54321\n",
            "Connecting to H2O server at http://127.0.0.1:54321 ... successful.\n"
          ],
          "name": "stdout"
        },
        {
          "output_type": "display_data",
          "data": {
            "text/html": [
              "<div style=\"overflow:auto\"><table style=\"width:50%\"><tr><td>H2O cluster uptime:</td>\n",
              "<td>02 secs</td></tr>\n",
              "<tr><td>H2O cluster timezone:</td>\n",
              "<td>Etc/UTC</td></tr>\n",
              "<tr><td>H2O data parsing timezone:</td>\n",
              "<td>UTC</td></tr>\n",
              "<tr><td>H2O cluster version:</td>\n",
              "<td>3.26.0.6</td></tr>\n",
              "<tr><td>H2O cluster version age:</td>\n",
              "<td>3 days </td></tr>\n",
              "<tr><td>H2O cluster name:</td>\n",
              "<td>H2O_from_python_unknownUser_780bgt</td></tr>\n",
              "<tr><td>H2O cluster total nodes:</td>\n",
              "<td>1</td></tr>\n",
              "<tr><td>H2O cluster free memory:</td>\n",
              "<td>6.250 Gb</td></tr>\n",
              "<tr><td>H2O cluster total cores:</td>\n",
              "<td>4</td></tr>\n",
              "<tr><td>H2O cluster allowed cores:</td>\n",
              "<td>4</td></tr>\n",
              "<tr><td>H2O cluster status:</td>\n",
              "<td>accepting new members, healthy</td></tr>\n",
              "<tr><td>H2O connection url:</td>\n",
              "<td>http://127.0.0.1:54321</td></tr>\n",
              "<tr><td>H2O connection proxy:</td>\n",
              "<td>None</td></tr>\n",
              "<tr><td>H2O internal security:</td>\n",
              "<td>False</td></tr>\n",
              "<tr><td>H2O API Extensions:</td>\n",
              "<td>Amazon S3, XGBoost, Algos, AutoML, Core V3, TargetEncoder, Core V4</td></tr>\n",
              "<tr><td>Python version:</td>\n",
              "<td>3.6.8 final</td></tr></table></div>"
            ],
            "text/plain": [
              "--------------------------  ------------------------------------------------------------------\n",
              "H2O cluster uptime:         02 secs\n",
              "H2O cluster timezone:       Etc/UTC\n",
              "H2O data parsing timezone:  UTC\n",
              "H2O cluster version:        3.26.0.6\n",
              "H2O cluster version age:    3 days\n",
              "H2O cluster name:           H2O_from_python_unknownUser_780bgt\n",
              "H2O cluster total nodes:    1\n",
              "H2O cluster free memory:    6.250 Gb\n",
              "H2O cluster total cores:    4\n",
              "H2O cluster allowed cores:  4\n",
              "H2O cluster status:         accepting new members, healthy\n",
              "H2O connection url:         http://127.0.0.1:54321\n",
              "H2O connection proxy:\n",
              "H2O internal security:      False\n",
              "H2O API Extensions:         Amazon S3, XGBoost, Algos, AutoML, Core V3, TargetEncoder, Core V4\n",
              "Python version:             3.6.8 final\n",
              "--------------------------  ------------------------------------------------------------------"
            ]
          },
          "metadata": {
            "tags": []
          }
        }
      ]
    },
    {
      "cell_type": "code",
      "metadata": {
        "id": "_yVStYsCjukl",
        "colab_type": "code",
        "outputId": "f44a8f33-a084-49d9-eb78-6c111a3475da",
        "colab": {
          "base_uri": "https://localhost:8080/",
          "height": 69
        }
      },
      "source": [
        "train=pd.concat([X_train,y_train],axis=1)\n",
        "test=pd.concat([X_test,y_test],axis=1)\n",
        "\n",
        "train=h2o.H2OFrame(train)\n",
        "test=h2o.H2OFrame(test)\n",
        "\n",
        "x = train.columns\n",
        "y = \"redemption_status\"\n",
        "\n",
        "# For binary classification, response should be a factor\n",
        "train[y] = train[y].asfactor()\n",
        "test[y] = test[y].asfactor()\n",
        "\n",
        "# Run AutoML for 20 base models (limited to 1 hour max runtime by default)\n",
        "mod = H2OAutoML(max_models=20, seed=1)\n",
        "mod.train(x=x, y=y, training_frame=train)"
      ],
      "execution_count": 0,
      "outputs": [
        {
          "output_type": "stream",
          "text": [
            "Parse progress: |█████████████████████████████████████████████████████████| 100%\n",
            "Parse progress: |█████████████████████████████████████████████████████████| 100%\n",
            "AutoML progress: |████████████████████████████████████████████████████████| 100%\n"
          ],
          "name": "stdout"
        }
      ]
    },
    {
      "cell_type": "code",
      "metadata": {
        "id": "8sBPPDicwPBM",
        "colab_type": "code",
        "outputId": "2b2e01ed-3c77-46f1-9f1f-55066420aee9",
        "colab": {
          "base_uri": "https://localhost:8080/",
          "height": 163
        }
      },
      "source": [
        "mod.leaderboard"
      ],
      "execution_count": 0,
      "outputs": [
        {
          "output_type": "display_data",
          "data": {
            "text/html": [
              "<table>\n",
              "<thead>\n",
              "<tr><th>model_id                                           </th><th style=\"text-align: right;\">     auc</th><th style=\"text-align: right;\">  logloss</th><th style=\"text-align: right;\">  mean_per_class_error</th><th style=\"text-align: right;\">     rmse</th><th style=\"text-align: right;\">       mse</th></tr>\n",
              "</thead>\n",
              "<tbody>\n",
              "<tr><td>XGBoost_1_AutoML_20191005_093738                   </td><td style=\"text-align: right;\">0.998859</td><td style=\"text-align: right;\">0.0665048</td><td style=\"text-align: right;\">            0.00316549</td><td style=\"text-align: right;\">0.113441 </td><td style=\"text-align: right;\">0.0128687 </td></tr>\n",
              "<tr><td>StackedEnsemble_BestOfFamily_AutoML_20191005_093738</td><td style=\"text-align: right;\">0.998857</td><td style=\"text-align: right;\">0.0311339</td><td style=\"text-align: right;\">            0.00315629</td><td style=\"text-align: right;\">0.082164 </td><td style=\"text-align: right;\">0.00675092</td></tr>\n",
              "<tr><td>StackedEnsemble_AllModels_AutoML_20191005_093738   </td><td style=\"text-align: right;\">0.998797</td><td style=\"text-align: right;\">0.028141 </td><td style=\"text-align: right;\">            0.00345995</td><td style=\"text-align: right;\">0.0781357</td><td style=\"text-align: right;\">0.00610518</td></tr>\n",
              "<tr><td>XGBoost_2_AutoML_20191005_093738                   </td><td style=\"text-align: right;\">0.997847</td><td style=\"text-align: right;\">0.106019 </td><td style=\"text-align: right;\">            0.00611933</td><td style=\"text-align: right;\">0.146556 </td><td style=\"text-align: right;\">0.0214788 </td></tr>\n",
              "<tr><td>XGBoost_3_AutoML_20191005_093738                   </td><td style=\"text-align: right;\">0.848454</td><td style=\"text-align: right;\">0.512417 </td><td style=\"text-align: right;\">            0.237255  </td><td style=\"text-align: right;\">0.410912 </td><td style=\"text-align: right;\">0.168848  </td></tr>\n",
              "</tbody>\n",
              "</table>"
            ]
          },
          "metadata": {
            "tags": []
          }
        },
        {
          "output_type": "execute_result",
          "data": {
            "text/plain": [
              ""
            ]
          },
          "metadata": {
            "tags": []
          },
          "execution_count": 20
        }
      ]
    },
    {
      "cell_type": "code",
      "metadata": {
        "id": "UbTqOWkHlAs4",
        "colab_type": "code",
        "outputId": "5c9e7fca-9513-421d-e450-d73195893d4f",
        "colab": {
          "base_uri": "https://localhost:8080/",
          "height": 1000
        }
      },
      "source": [
        "#ntest=h2o.H2OFrame(ntest)\n",
        "a=mod.leader.model_performance(test)\n",
        "a"
      ],
      "execution_count": 0,
      "outputs": [
        {
          "output_type": "stream",
          "text": [
            "\n",
            "ModelMetricsBinomial: xgboost\n",
            "** Reported on test data. **\n",
            "\n",
            "MSE: 0.022292672838654076\n",
            "RMSE: 0.14930731006435713\n",
            "LogLoss: 0.08306043176338451\n",
            "Mean Per-Class Error: 0.17288721970974685\n",
            "AUC: 0.8972649467404986\n",
            "pr_auc: 0.13577043097193553\n",
            "Gini: 0.7945298934809972\n",
            "\n",
            "Confusion Matrix (Act/Pred) for max f1 @ threshold = 0.6837389213698251: \n"
          ],
          "name": "stdout"
        },
        {
          "output_type": "display_data",
          "data": {
            "text/html": [
              "<div>\n",
              "<style scoped>\n",
              "    .dataframe tbody tr th:only-of-type {\n",
              "        vertical-align: middle;\n",
              "    }\n",
              "\n",
              "    .dataframe tbody tr th {\n",
              "        vertical-align: top;\n",
              "    }\n",
              "\n",
              "    .dataframe thead th {\n",
              "        text-align: right;\n",
              "    }\n",
              "</style>\n",
              "<table border=\"1\" class=\"dataframe\">\n",
              "  <thead>\n",
              "    <tr style=\"text-align: right;\">\n",
              "      <th></th>\n",
              "      <th></th>\n",
              "      <th>0</th>\n",
              "      <th>1</th>\n",
              "      <th>Error</th>\n",
              "      <th>Rate</th>\n",
              "    </tr>\n",
              "  </thead>\n",
              "  <tbody>\n",
              "    <tr>\n",
              "      <th>0</th>\n",
              "      <td>0</td>\n",
              "      <td>23037.0</td>\n",
              "      <td>267.0</td>\n",
              "      <td>0.0115</td>\n",
              "      <td>(267.0/23304.0)</td>\n",
              "    </tr>\n",
              "    <tr>\n",
              "      <th>1</th>\n",
              "      <td>1</td>\n",
              "      <td>132.0</td>\n",
              "      <td>75.0</td>\n",
              "      <td>0.6377</td>\n",
              "      <td>(132.0/207.0)</td>\n",
              "    </tr>\n",
              "    <tr>\n",
              "      <th>2</th>\n",
              "      <td>Total</td>\n",
              "      <td>23169.0</td>\n",
              "      <td>342.0</td>\n",
              "      <td>0.017</td>\n",
              "      <td>(399.0/23511.0)</td>\n",
              "    </tr>\n",
              "  </tbody>\n",
              "</table>\n",
              "</div>"
            ],
            "text/plain": [
              "                0      1   Error              Rate\n",
              "0      0  23037.0  267.0  0.0115   (267.0/23304.0)\n",
              "1      1    132.0   75.0  0.6377     (132.0/207.0)\n",
              "2  Total  23169.0  342.0   0.017   (399.0/23511.0)"
            ]
          },
          "metadata": {
            "tags": []
          }
        },
        {
          "output_type": "stream",
          "text": [
            "\n",
            "Maximum Metrics: Maximum metrics at their respective thresholds\n"
          ],
          "name": "stdout"
        },
        {
          "output_type": "display_data",
          "data": {
            "text/html": [
              "<div>\n",
              "<style scoped>\n",
              "    .dataframe tbody tr th:only-of-type {\n",
              "        vertical-align: middle;\n",
              "    }\n",
              "\n",
              "    .dataframe tbody tr th {\n",
              "        vertical-align: top;\n",
              "    }\n",
              "\n",
              "    .dataframe thead th {\n",
              "        text-align: right;\n",
              "    }\n",
              "</style>\n",
              "<table border=\"1\" class=\"dataframe\">\n",
              "  <thead>\n",
              "    <tr style=\"text-align: right;\">\n",
              "      <th></th>\n",
              "      <th>metric</th>\n",
              "      <th>threshold</th>\n",
              "      <th>value</th>\n",
              "      <th>idx</th>\n",
              "    </tr>\n",
              "  </thead>\n",
              "  <tbody>\n",
              "    <tr>\n",
              "      <th>0</th>\n",
              "      <td>max f1</td>\n",
              "      <td>0.683739</td>\n",
              "      <td>0.273224</td>\n",
              "      <td>66.0</td>\n",
              "    </tr>\n",
              "    <tr>\n",
              "      <th>1</th>\n",
              "      <td>max f2</td>\n",
              "      <td>0.609836</td>\n",
              "      <td>0.334110</td>\n",
              "      <td>85.0</td>\n",
              "    </tr>\n",
              "    <tr>\n",
              "      <th>2</th>\n",
              "      <td>max f0point5</td>\n",
              "      <td>0.779124</td>\n",
              "      <td>0.242009</td>\n",
              "      <td>42.0</td>\n",
              "    </tr>\n",
              "    <tr>\n",
              "      <th>3</th>\n",
              "      <td>max accuracy</td>\n",
              "      <td>0.992463</td>\n",
              "      <td>0.991153</td>\n",
              "      <td>0.0</td>\n",
              "    </tr>\n",
              "    <tr>\n",
              "      <th>4</th>\n",
              "      <td>max precision</td>\n",
              "      <td>0.960324</td>\n",
              "      <td>0.321429</td>\n",
              "      <td>6.0</td>\n",
              "    </tr>\n",
              "    <tr>\n",
              "      <th>5</th>\n",
              "      <td>max recall</td>\n",
              "      <td>0.000086</td>\n",
              "      <td>1.000000</td>\n",
              "      <td>399.0</td>\n",
              "    </tr>\n",
              "    <tr>\n",
              "      <th>6</th>\n",
              "      <td>max specificity</td>\n",
              "      <td>0.992463</td>\n",
              "      <td>0.999957</td>\n",
              "      <td>0.0</td>\n",
              "    </tr>\n",
              "    <tr>\n",
              "      <th>7</th>\n",
              "      <td>max absolute_mcc</td>\n",
              "      <td>0.683739</td>\n",
              "      <td>0.273760</td>\n",
              "      <td>66.0</td>\n",
              "    </tr>\n",
              "    <tr>\n",
              "      <th>8</th>\n",
              "      <td>max min_per_class_accuracy</td>\n",
              "      <td>0.057003</td>\n",
              "      <td>0.821256</td>\n",
              "      <td>314.0</td>\n",
              "    </tr>\n",
              "    <tr>\n",
              "      <th>9</th>\n",
              "      <td>max mean_per_class_accuracy</td>\n",
              "      <td>0.082121</td>\n",
              "      <td>0.827113</td>\n",
              "      <td>294.0</td>\n",
              "    </tr>\n",
              "    <tr>\n",
              "      <th>10</th>\n",
              "      <td>max tns</td>\n",
              "      <td>0.992463</td>\n",
              "      <td>23303.000000</td>\n",
              "      <td>0.0</td>\n",
              "    </tr>\n",
              "    <tr>\n",
              "      <th>11</th>\n",
              "      <td>max fns</td>\n",
              "      <td>0.992463</td>\n",
              "      <td>207.000000</td>\n",
              "      <td>0.0</td>\n",
              "    </tr>\n",
              "    <tr>\n",
              "      <th>12</th>\n",
              "      <td>max fps</td>\n",
              "      <td>0.000086</td>\n",
              "      <td>23304.000000</td>\n",
              "      <td>399.0</td>\n",
              "    </tr>\n",
              "    <tr>\n",
              "      <th>13</th>\n",
              "      <td>max tps</td>\n",
              "      <td>0.000086</td>\n",
              "      <td>207.000000</td>\n",
              "      <td>399.0</td>\n",
              "    </tr>\n",
              "    <tr>\n",
              "      <th>14</th>\n",
              "      <td>max tnr</td>\n",
              "      <td>0.992463</td>\n",
              "      <td>0.999957</td>\n",
              "      <td>0.0</td>\n",
              "    </tr>\n",
              "    <tr>\n",
              "      <th>15</th>\n",
              "      <td>max fnr</td>\n",
              "      <td>0.992463</td>\n",
              "      <td>1.000000</td>\n",
              "      <td>0.0</td>\n",
              "    </tr>\n",
              "    <tr>\n",
              "      <th>16</th>\n",
              "      <td>max fpr</td>\n",
              "      <td>0.000086</td>\n",
              "      <td>1.000000</td>\n",
              "      <td>399.0</td>\n",
              "    </tr>\n",
              "    <tr>\n",
              "      <th>17</th>\n",
              "      <td>max tpr</td>\n",
              "      <td>0.000086</td>\n",
              "      <td>1.000000</td>\n",
              "      <td>399.0</td>\n",
              "    </tr>\n",
              "  </tbody>\n",
              "</table>\n",
              "</div>"
            ],
            "text/plain": [
              "                         metric  threshold         value    idx\n",
              "0                        max f1   0.683739      0.273224   66.0\n",
              "1                        max f2   0.609836      0.334110   85.0\n",
              "2                  max f0point5   0.779124      0.242009   42.0\n",
              "3                  max accuracy   0.992463      0.991153    0.0\n",
              "4                 max precision   0.960324      0.321429    6.0\n",
              "5                    max recall   0.000086      1.000000  399.0\n",
              "6               max specificity   0.992463      0.999957    0.0\n",
              "7              max absolute_mcc   0.683739      0.273760   66.0\n",
              "8    max min_per_class_accuracy   0.057003      0.821256  314.0\n",
              "9   max mean_per_class_accuracy   0.082121      0.827113  294.0\n",
              "10                      max tns   0.992463  23303.000000    0.0\n",
              "11                      max fns   0.992463    207.000000    0.0\n",
              "12                      max fps   0.000086  23304.000000  399.0\n",
              "13                      max tps   0.000086    207.000000  399.0\n",
              "14                      max tnr   0.992463      0.999957    0.0\n",
              "15                      max fnr   0.992463      1.000000    0.0\n",
              "16                      max fpr   0.000086      1.000000  399.0\n",
              "17                      max tpr   0.000086      1.000000  399.0"
            ]
          },
          "metadata": {
            "tags": []
          }
        },
        {
          "output_type": "stream",
          "text": [
            "\n",
            "Gains/Lift Table: Avg response rate:  0.88 %, avg score:  5.26 %\n"
          ],
          "name": "stdout"
        },
        {
          "output_type": "display_data",
          "data": {
            "text/html": [
              "<div>\n",
              "<style scoped>\n",
              "    .dataframe tbody tr th:only-of-type {\n",
              "        vertical-align: middle;\n",
              "    }\n",
              "\n",
              "    .dataframe tbody tr th {\n",
              "        vertical-align: top;\n",
              "    }\n",
              "\n",
              "    .dataframe thead th {\n",
              "        text-align: right;\n",
              "    }\n",
              "</style>\n",
              "<table border=\"1\" class=\"dataframe\">\n",
              "  <thead>\n",
              "    <tr style=\"text-align: right;\">\n",
              "      <th></th>\n",
              "      <th></th>\n",
              "      <th>group</th>\n",
              "      <th>cumulative_data_fraction</th>\n",
              "      <th>lower_threshold</th>\n",
              "      <th>lift</th>\n",
              "      <th>cumulative_lift</th>\n",
              "      <th>response_rate</th>\n",
              "      <th>score</th>\n",
              "      <th>cumulative_response_rate</th>\n",
              "      <th>cumulative_score</th>\n",
              "      <th>capture_rate</th>\n",
              "      <th>cumulative_capture_rate</th>\n",
              "      <th>gain</th>\n",
              "      <th>cumulative_gain</th>\n",
              "    </tr>\n",
              "  </thead>\n",
              "  <tbody>\n",
              "    <tr>\n",
              "      <th>0</th>\n",
              "      <td></td>\n",
              "      <td>1</td>\n",
              "      <td>0.010038</td>\n",
              "      <td>0.765554</td>\n",
              "      <td>25.988578</td>\n",
              "      <td>25.988578</td>\n",
              "      <td>0.228814</td>\n",
              "      <td>0.872373</td>\n",
              "      <td>0.228814</td>\n",
              "      <td>0.872373</td>\n",
              "      <td>0.260870</td>\n",
              "      <td>0.260870</td>\n",
              "      <td>2498.857775</td>\n",
              "      <td>2498.857775</td>\n",
              "    </tr>\n",
              "    <tr>\n",
              "      <th>1</th>\n",
              "      <td></td>\n",
              "      <td>2</td>\n",
              "      <td>0.020033</td>\n",
              "      <td>0.600684</td>\n",
              "      <td>15.466173</td>\n",
              "      <td>20.738546</td>\n",
              "      <td>0.136170</td>\n",
              "      <td>0.676118</td>\n",
              "      <td>0.182590</td>\n",
              "      <td>0.774454</td>\n",
              "      <td>0.154589</td>\n",
              "      <td>0.415459</td>\n",
              "      <td>1446.617330</td>\n",
              "      <td>1973.854580</td>\n",
              "    </tr>\n",
              "    <tr>\n",
              "      <th>2</th>\n",
              "      <td></td>\n",
              "      <td>3</td>\n",
              "      <td>0.030028</td>\n",
              "      <td>0.476512</td>\n",
              "      <td>4.833179</td>\n",
              "      <td>15.444267</td>\n",
              "      <td>0.042553</td>\n",
              "      <td>0.534340</td>\n",
              "      <td>0.135977</td>\n",
              "      <td>0.694529</td>\n",
              "      <td>0.048309</td>\n",
              "      <td>0.463768</td>\n",
              "      <td>383.317916</td>\n",
              "      <td>1444.426654</td>\n",
              "    </tr>\n",
              "    <tr>\n",
              "      <th>3</th>\n",
              "      <td></td>\n",
              "      <td>4</td>\n",
              "      <td>0.040024</td>\n",
              "      <td>0.379864</td>\n",
              "      <td>7.733087</td>\n",
              "      <td>13.518520</td>\n",
              "      <td>0.068085</td>\n",
              "      <td>0.425617</td>\n",
              "      <td>0.119022</td>\n",
              "      <td>0.627373</td>\n",
              "      <td>0.077295</td>\n",
              "      <td>0.541063</td>\n",
              "      <td>673.308665</td>\n",
              "      <td>1251.852023</td>\n",
              "    </tr>\n",
              "    <tr>\n",
              "      <th>4</th>\n",
              "      <td></td>\n",
              "      <td>5</td>\n",
              "      <td>0.050019</td>\n",
              "      <td>0.313270</td>\n",
              "      <td>2.899907</td>\n",
              "      <td>11.396604</td>\n",
              "      <td>0.025532</td>\n",
              "      <td>0.346525</td>\n",
              "      <td>0.100340</td>\n",
              "      <td>0.571251</td>\n",
              "      <td>0.028986</td>\n",
              "      <td>0.570048</td>\n",
              "      <td>189.990749</td>\n",
              "      <td>1039.660357</td>\n",
              "    </tr>\n",
              "    <tr>\n",
              "      <th>5</th>\n",
              "      <td></td>\n",
              "      <td>6</td>\n",
              "      <td>0.100038</td>\n",
              "      <td>0.142985</td>\n",
              "      <td>2.800860</td>\n",
              "      <td>7.098732</td>\n",
              "      <td>0.024660</td>\n",
              "      <td>0.211235</td>\n",
              "      <td>0.062500</td>\n",
              "      <td>0.391243</td>\n",
              "      <td>0.140097</td>\n",
              "      <td>0.710145</td>\n",
              "      <td>180.086020</td>\n",
              "      <td>609.873188</td>\n",
              "    </tr>\n",
              "    <tr>\n",
              "      <th>6</th>\n",
              "      <td></td>\n",
              "      <td>7</td>\n",
              "      <td>0.150015</td>\n",
              "      <td>0.076857</td>\n",
              "      <td>1.643281</td>\n",
              "      <td>5.281279</td>\n",
              "      <td>0.014468</td>\n",
              "      <td>0.104504</td>\n",
              "      <td>0.046498</td>\n",
              "      <td>0.295718</td>\n",
              "      <td>0.082126</td>\n",
              "      <td>0.792271</td>\n",
              "      <td>64.328091</td>\n",
              "      <td>428.127941</td>\n",
              "    </tr>\n",
              "    <tr>\n",
              "      <th>7</th>\n",
              "      <td></td>\n",
              "      <td>8</td>\n",
              "      <td>0.200077</td>\n",
              "      <td>0.046595</td>\n",
              "      <td>0.868494</td>\n",
              "      <td>4.177145</td>\n",
              "      <td>0.007647</td>\n",
              "      <td>0.060374</td>\n",
              "      <td>0.036777</td>\n",
              "      <td>0.236832</td>\n",
              "      <td>0.043478</td>\n",
              "      <td>0.835749</td>\n",
              "      <td>-13.150604</td>\n",
              "      <td>317.714495</td>\n",
              "    </tr>\n",
              "    <tr>\n",
              "      <th>8</th>\n",
              "      <td></td>\n",
              "      <td>9</td>\n",
              "      <td>0.300030</td>\n",
              "      <td>0.018511</td>\n",
              "      <td>0.434986</td>\n",
              "      <td>2.930466</td>\n",
              "      <td>0.003830</td>\n",
              "      <td>0.029976</td>\n",
              "      <td>0.025801</td>\n",
              "      <td>0.167919</td>\n",
              "      <td>0.043478</td>\n",
              "      <td>0.879227</td>\n",
              "      <td>-56.501388</td>\n",
              "      <td>193.046601</td>\n",
              "    </tr>\n",
              "    <tr>\n",
              "      <th>9</th>\n",
              "      <td></td>\n",
              "      <td>10</td>\n",
              "      <td>0.400026</td>\n",
              "      <td>0.007968</td>\n",
              "      <td>0.338179</td>\n",
              "      <td>2.282463</td>\n",
              "      <td>0.002977</td>\n",
              "      <td>0.012401</td>\n",
              "      <td>0.020096</td>\n",
              "      <td>0.129043</td>\n",
              "      <td>0.033816</td>\n",
              "      <td>0.913043</td>\n",
              "      <td>-66.182136</td>\n",
              "      <td>128.246307</td>\n",
              "    </tr>\n",
              "    <tr>\n",
              "      <th>10</th>\n",
              "      <td></td>\n",
              "      <td>11</td>\n",
              "      <td>0.500021</td>\n",
              "      <td>0.003597</td>\n",
              "      <td>0.531424</td>\n",
              "      <td>1.932285</td>\n",
              "      <td>0.004679</td>\n",
              "      <td>0.005517</td>\n",
              "      <td>0.017013</td>\n",
              "      <td>0.104340</td>\n",
              "      <td>0.053140</td>\n",
              "      <td>0.966184</td>\n",
              "      <td>-46.857643</td>\n",
              "      <td>93.228496</td>\n",
              "    </tr>\n",
              "    <tr>\n",
              "      <th>11</th>\n",
              "      <td></td>\n",
              "      <td>12</td>\n",
              "      <td>0.600017</td>\n",
              "      <td>0.001561</td>\n",
              "      <td>0.144934</td>\n",
              "      <td>1.634414</td>\n",
              "      <td>0.001276</td>\n",
              "      <td>0.002456</td>\n",
              "      <td>0.014390</td>\n",
              "      <td>0.087361</td>\n",
              "      <td>0.014493</td>\n",
              "      <td>0.980676</td>\n",
              "      <td>-85.506630</td>\n",
              "      <td>63.441420</td>\n",
              "    </tr>\n",
              "    <tr>\n",
              "      <th>12</th>\n",
              "      <td></td>\n",
              "      <td>13</td>\n",
              "      <td>0.700013</td>\n",
              "      <td>0.000600</td>\n",
              "      <td>0.048311</td>\n",
              "      <td>1.407842</td>\n",
              "      <td>0.000425</td>\n",
              "      <td>0.001032</td>\n",
              "      <td>0.012395</td>\n",
              "      <td>0.075029</td>\n",
              "      <td>0.004831</td>\n",
              "      <td>0.985507</td>\n",
              "      <td>-95.168877</td>\n",
              "      <td>40.784183</td>\n",
              "    </tr>\n",
              "    <tr>\n",
              "      <th>13</th>\n",
              "      <td></td>\n",
              "      <td>14</td>\n",
              "      <td>0.800094</td>\n",
              "      <td>0.000245</td>\n",
              "      <td>0.000000</td>\n",
              "      <td>1.231740</td>\n",
              "      <td>0.000000</td>\n",
              "      <td>0.000393</td>\n",
              "      <td>0.010845</td>\n",
              "      <td>0.065693</td>\n",
              "      <td>0.000000</td>\n",
              "      <td>0.985507</td>\n",
              "      <td>-100.000000</td>\n",
              "      <td>23.173999</td>\n",
              "    </tr>\n",
              "    <tr>\n",
              "      <th>14</th>\n",
              "      <td></td>\n",
              "      <td>15</td>\n",
              "      <td>0.900047</td>\n",
              "      <td>0.000098</td>\n",
              "      <td>0.096664</td>\n",
              "      <td>1.105686</td>\n",
              "      <td>0.000851</td>\n",
              "      <td>0.000165</td>\n",
              "      <td>0.009735</td>\n",
              "      <td>0.058416</td>\n",
              "      <td>0.009662</td>\n",
              "      <td>0.995169</td>\n",
              "      <td>-90.333642</td>\n",
              "      <td>10.568595</td>\n",
              "    </tr>\n",
              "    <tr>\n",
              "      <th>15</th>\n",
              "      <td></td>\n",
              "      <td>16</td>\n",
              "      <td>1.000000</td>\n",
              "      <td>0.000002</td>\n",
              "      <td>0.048332</td>\n",
              "      <td>1.000000</td>\n",
              "      <td>0.000426</td>\n",
              "      <td>0.000055</td>\n",
              "      <td>0.008804</td>\n",
              "      <td>0.052582</td>\n",
              "      <td>0.004831</td>\n",
              "      <td>1.000000</td>\n",
              "      <td>-95.166821</td>\n",
              "      <td>0.000000</td>\n",
              "    </tr>\n",
              "  </tbody>\n",
              "</table>\n",
              "</div>"
            ],
            "text/plain": [
              "      group  ...         gain  cumulative_gain\n",
              "0         1  ...  2498.857775      2498.857775\n",
              "1         2  ...  1446.617330      1973.854580\n",
              "2         3  ...   383.317916      1444.426654\n",
              "3         4  ...   673.308665      1251.852023\n",
              "4         5  ...   189.990749      1039.660357\n",
              "5         6  ...   180.086020       609.873188\n",
              "6         7  ...    64.328091       428.127941\n",
              "7         8  ...   -13.150604       317.714495\n",
              "8         9  ...   -56.501388       193.046601\n",
              "9        10  ...   -66.182136       128.246307\n",
              "10       11  ...   -46.857643        93.228496\n",
              "11       12  ...   -85.506630        63.441420\n",
              "12       13  ...   -95.168877        40.784183\n",
              "13       14  ...  -100.000000        23.173999\n",
              "14       15  ...   -90.333642        10.568595\n",
              "15       16  ...   -95.166821         0.000000\n",
              "\n",
              "[16 rows x 14 columns]"
            ]
          },
          "metadata": {
            "tags": []
          }
        },
        {
          "output_type": "stream",
          "text": [
            "\n"
          ],
          "name": "stdout"
        },
        {
          "output_type": "execute_result",
          "data": {
            "text/plain": [
              ""
            ]
          },
          "metadata": {
            "tags": []
          },
          "execution_count": 21
        }
      ]
    },
    {
      "cell_type": "code",
      "metadata": {
        "id": "lDMiJmWYG8ab",
        "colab_type": "code",
        "colab": {}
      },
      "source": [
        "#ntest=ntest.as_data_frame()\n",
        "idd=ntest[\"id\"]\n",
        "ntest.drop(['id'], axis=1, inplace=True)"
      ],
      "execution_count": 0,
      "outputs": []
    },
    {
      "cell_type": "code",
      "metadata": {
        "id": "JGlcMna20IjZ",
        "colab_type": "code",
        "outputId": "41d4e089-177f-40d9-b98f-6bce5cc8e4db",
        "colab": {
          "base_uri": "https://localhost:8080/",
          "height": 281
        }
      },
      "source": [
        "ntest=h2o.H2OFrame(ntest)\n",
        "pre=mod.leader.predict(ntest)\n",
        "pre.head()"
      ],
      "execution_count": 0,
      "outputs": [
        {
          "output_type": "stream",
          "text": [
            "Parse progress: |█████████████████████████████████████████████████████████| 100%\n",
            "xgboost prediction progress: |████████████████████████████████████████████| 100%\n"
          ],
          "name": "stdout"
        },
        {
          "output_type": "display_data",
          "data": {
            "text/html": [
              "<table>\n",
              "<thead>\n",
              "<tr><th style=\"text-align: right;\">  predict</th><th style=\"text-align: right;\">      p0</th><th style=\"text-align: right;\">         p1</th></tr>\n",
              "</thead>\n",
              "<tbody>\n",
              "<tr><td style=\"text-align: right;\">        0</td><td style=\"text-align: right;\">0.986409</td><td style=\"text-align: right;\">0.0135907  </td></tr>\n",
              "<tr><td style=\"text-align: right;\">        0</td><td style=\"text-align: right;\">0.997442</td><td style=\"text-align: right;\">0.00255753 </td></tr>\n",
              "<tr><td style=\"text-align: right;\">        0</td><td style=\"text-align: right;\">0.998522</td><td style=\"text-align: right;\">0.00147765 </td></tr>\n",
              "<tr><td style=\"text-align: right;\">        0</td><td style=\"text-align: right;\">0.999848</td><td style=\"text-align: right;\">0.000151975</td></tr>\n",
              "<tr><td style=\"text-align: right;\">        0</td><td style=\"text-align: right;\">0.9969  </td><td style=\"text-align: right;\">0.00309967 </td></tr>\n",
              "<tr><td style=\"text-align: right;\">        0</td><td style=\"text-align: right;\">0.999953</td><td style=\"text-align: right;\">4.68658e-05</td></tr>\n",
              "<tr><td style=\"text-align: right;\">        0</td><td style=\"text-align: right;\">0.996645</td><td style=\"text-align: right;\">0.00335475 </td></tr>\n",
              "<tr><td style=\"text-align: right;\">        0</td><td style=\"text-align: right;\">0.999635</td><td style=\"text-align: right;\">0.000364935</td></tr>\n",
              "<tr><td style=\"text-align: right;\">        0</td><td style=\"text-align: right;\">0.999929</td><td style=\"text-align: right;\">7.11816e-05</td></tr>\n",
              "<tr><td style=\"text-align: right;\">        0</td><td style=\"text-align: right;\">0.99887 </td><td style=\"text-align: right;\">0.00112986 </td></tr>\n",
              "</tbody>\n",
              "</table>"
            ]
          },
          "metadata": {
            "tags": []
          }
        },
        {
          "output_type": "execute_result",
          "data": {
            "text/plain": [
              ""
            ]
          },
          "metadata": {
            "tags": []
          },
          "execution_count": 23
        }
      ]
    },
    {
      "cell_type": "code",
      "metadata": {
        "id": "u-ufXIpVhMr_",
        "colab_type": "code",
        "colab": {}
      },
      "source": [
        "x=pre.as_data_frame()\n",
        "x.to_csv(\"h2o_over_result.csv\")"
      ],
      "execution_count": 0,
      "outputs": []
    },
    {
      "cell_type": "code",
      "metadata": {
        "id": "oKYu0FdHywgS",
        "colab_type": "code",
        "outputId": "a0d1a281-444c-4aef-efca-41c1554645be",
        "colab": {
          "base_uri": "https://localhost:8080/",
          "height": 69
        }
      },
      "source": [
        "x=pre[\"predict\"].as_data_frame()\n",
        "x[\"predict\"].value_counts()"
      ],
      "execution_count": 0,
      "outputs": [
        {
          "output_type": "execute_result",
          "data": {
            "text/plain": [
              "0    50222\n",
              "1        4\n",
              "Name: predict, dtype: int64"
            ]
          },
          "metadata": {
            "tags": []
          },
          "execution_count": 32
        }
      ]
    },
    {
      "cell_type": "code",
      "metadata": {
        "id": "WrA9dUxU0qb8",
        "colab_type": "code",
        "outputId": "bff67eef-8e9b-42fb-8954-5dfcc886f8cf",
        "colab": {
          "base_uri": "https://localhost:8080/",
          "height": 202
        }
      },
      "source": [
        "pred=pd.read_csv(\"/content/drive/My Drive/My Colab/AmExpert2019/sample_submission_Byiv0dS.csv\")\n",
        "pred.head()"
      ],
      "execution_count": 0,
      "outputs": [
        {
          "output_type": "execute_result",
          "data": {
            "text/html": [
              "<div>\n",
              "<style scoped>\n",
              "    .dataframe tbody tr th:only-of-type {\n",
              "        vertical-align: middle;\n",
              "    }\n",
              "\n",
              "    .dataframe tbody tr th {\n",
              "        vertical-align: top;\n",
              "    }\n",
              "\n",
              "    .dataframe thead th {\n",
              "        text-align: right;\n",
              "    }\n",
              "</style>\n",
              "<table border=\"1\" class=\"dataframe\">\n",
              "  <thead>\n",
              "    <tr style=\"text-align: right;\">\n",
              "      <th></th>\n",
              "      <th>id</th>\n",
              "      <th>redemption_status</th>\n",
              "    </tr>\n",
              "  </thead>\n",
              "  <tbody>\n",
              "    <tr>\n",
              "      <th>0</th>\n",
              "      <td>3</td>\n",
              "      <td>0</td>\n",
              "    </tr>\n",
              "    <tr>\n",
              "      <th>1</th>\n",
              "      <td>4</td>\n",
              "      <td>0</td>\n",
              "    </tr>\n",
              "    <tr>\n",
              "      <th>2</th>\n",
              "      <td>5</td>\n",
              "      <td>0</td>\n",
              "    </tr>\n",
              "    <tr>\n",
              "      <th>3</th>\n",
              "      <td>8</td>\n",
              "      <td>0</td>\n",
              "    </tr>\n",
              "    <tr>\n",
              "      <th>4</th>\n",
              "      <td>10</td>\n",
              "      <td>0</td>\n",
              "    </tr>\n",
              "  </tbody>\n",
              "</table>\n",
              "</div>"
            ],
            "text/plain": [
              "   id  redemption_status\n",
              "0   3                  0\n",
              "1   4                  0\n",
              "2   5                  0\n",
              "3   8                  0\n",
              "4  10                  0"
            ]
          },
          "metadata": {
            "tags": []
          },
          "execution_count": 33
        }
      ]
    },
    {
      "cell_type": "code",
      "metadata": {
        "id": "kP1rWmlZ07ve",
        "colab_type": "code",
        "outputId": "7a4acf54-2a76-40ec-9254-4730ad5b5631",
        "colab": {
          "base_uri": "https://localhost:8080/",
          "height": 202
        }
      },
      "source": [
        "pred[\"redemption_status\"]=x[\"predict\"]\n",
        "pred.head()"
      ],
      "execution_count": 0,
      "outputs": [
        {
          "output_type": "execute_result",
          "data": {
            "text/html": [
              "<div>\n",
              "<style scoped>\n",
              "    .dataframe tbody tr th:only-of-type {\n",
              "        vertical-align: middle;\n",
              "    }\n",
              "\n",
              "    .dataframe tbody tr th {\n",
              "        vertical-align: top;\n",
              "    }\n",
              "\n",
              "    .dataframe thead th {\n",
              "        text-align: right;\n",
              "    }\n",
              "</style>\n",
              "<table border=\"1\" class=\"dataframe\">\n",
              "  <thead>\n",
              "    <tr style=\"text-align: right;\">\n",
              "      <th></th>\n",
              "      <th>id</th>\n",
              "      <th>redemption_status</th>\n",
              "    </tr>\n",
              "  </thead>\n",
              "  <tbody>\n",
              "    <tr>\n",
              "      <th>0</th>\n",
              "      <td>3</td>\n",
              "      <td>0</td>\n",
              "    </tr>\n",
              "    <tr>\n",
              "      <th>1</th>\n",
              "      <td>4</td>\n",
              "      <td>0</td>\n",
              "    </tr>\n",
              "    <tr>\n",
              "      <th>2</th>\n",
              "      <td>5</td>\n",
              "      <td>0</td>\n",
              "    </tr>\n",
              "    <tr>\n",
              "      <th>3</th>\n",
              "      <td>8</td>\n",
              "      <td>0</td>\n",
              "    </tr>\n",
              "    <tr>\n",
              "      <th>4</th>\n",
              "      <td>10</td>\n",
              "      <td>0</td>\n",
              "    </tr>\n",
              "  </tbody>\n",
              "</table>\n",
              "</div>"
            ],
            "text/plain": [
              "   id  redemption_status\n",
              "0   3                  0\n",
              "1   4                  0\n",
              "2   5                  0\n",
              "3   8                  0\n",
              "4  10                  0"
            ]
          },
          "metadata": {
            "tags": []
          },
          "execution_count": 34
        }
      ]
    },
    {
      "cell_type": "code",
      "metadata": {
        "id": "PZBpNB0B2hu4",
        "colab_type": "code",
        "colab": {}
      },
      "source": [
        "pred.to_csv(\"result.csv\")"
      ],
      "execution_count": 0,
      "outputs": []
    },
    {
      "cell_type": "markdown",
      "metadata": {
        "id": "roFdnDIW6012",
        "colab_type": "text"
      },
      "source": [
        "## Model_22"
      ]
    },
    {
      "cell_type": "code",
      "metadata": {
        "id": "9iYIbmvpgfnA",
        "colab_type": "code",
        "outputId": "18edde06-93e2-42ce-a462-160a68a8e3db",
        "colab": {
          "base_uri": "https://localhost:8080/",
          "height": 297
        }
      },
      "source": [
        "pip install catboost"
      ],
      "execution_count": 0,
      "outputs": [
        {
          "output_type": "stream",
          "text": [
            "Requirement already satisfied: catboost in /usr/local/lib/python3.6/dist-packages (0.17.4)\n",
            "Requirement already satisfied: six in /usr/local/lib/python3.6/dist-packages (from catboost) (1.12.0)\n",
            "Requirement already satisfied: pandas>=0.24.0 in /usr/local/lib/python3.6/dist-packages (from catboost) (0.24.2)\n",
            "Requirement already satisfied: scipy in /usr/local/lib/python3.6/dist-packages (from catboost) (1.3.1)\n",
            "Requirement already satisfied: plotly in /usr/local/lib/python3.6/dist-packages (from catboost) (4.1.1)\n",
            "Requirement already satisfied: numpy>=1.16.0 in /usr/local/lib/python3.6/dist-packages (from catboost) (1.16.5)\n",
            "Requirement already satisfied: graphviz in /usr/local/lib/python3.6/dist-packages (from catboost) (0.10.1)\n",
            "Requirement already satisfied: matplotlib in /usr/local/lib/python3.6/dist-packages (from catboost) (3.0.3)\n",
            "Requirement already satisfied: python-dateutil>=2.5.0 in /usr/local/lib/python3.6/dist-packages (from pandas>=0.24.0->catboost) (2.5.3)\n",
            "Requirement already satisfied: pytz>=2011k in /usr/local/lib/python3.6/dist-packages (from pandas>=0.24.0->catboost) (2018.9)\n",
            "Requirement already satisfied: retrying>=1.3.3 in /usr/local/lib/python3.6/dist-packages (from plotly->catboost) (1.3.3)\n",
            "Requirement already satisfied: kiwisolver>=1.0.1 in /usr/local/lib/python3.6/dist-packages (from matplotlib->catboost) (1.1.0)\n",
            "Requirement already satisfied: pyparsing!=2.0.4,!=2.1.2,!=2.1.6,>=2.0.1 in /usr/local/lib/python3.6/dist-packages (from matplotlib->catboost) (2.4.2)\n",
            "Requirement already satisfied: cycler>=0.10 in /usr/local/lib/python3.6/dist-packages (from matplotlib->catboost) (0.10.0)\n",
            "Requirement already satisfied: setuptools in /usr/local/lib/python3.6/dist-packages (from kiwisolver>=1.0.1->matplotlib->catboost) (41.2.0)\n"
          ],
          "name": "stdout"
        }
      ]
    },
    {
      "cell_type": "code",
      "metadata": {
        "id": "KpDGPPe22toN",
        "colab_type": "code",
        "colab": {}
      },
      "source": [
        "# Import dependencies\n",
        "import pandas as pd\n",
        "import numpy as np\n",
        "from sklearn.preprocessing import StandardScaler\n",
        "from sklearn.ensemble import RandomForestClassifier\n",
        "from sklearn.preprocessing import LabelEncoder\n",
        "from keras.utils import np_utils\n",
        "from xgboost import XGBClassifier\n",
        "from sklearn.model_selection import train_test_split, cross_val_score\n",
        "from sklearn.metrics import mean_squared_error,confusion_matrix, precision_score, recall_score, auc,roc_curve\n",
        "from sklearn import ensemble, linear_model, neighbors, svm, tree, neural_network\n",
        "from sklearn.pipeline import make_pipeline\n",
        "from sklearn.linear_model import Ridge\n",
        "from sklearn.preprocessing import PolynomialFeatures\n",
        "from sklearn import svm,model_selection, tree, linear_model, neighbors, naive_bayes, ensemble, discriminant_analysis, gaussian_process\n",
        "import matplotlib.pyplot as plt\n",
        "from math import sqrt\n",
        "import seaborn as sns\n",
        "import warnings\n",
        "from xgboost import XGBClassifier\n",
        "from lightgbm import LGBMClassifier\n",
        "from catboost import CatBoostClassifier\n",
        "from sklearn.neural_network import MLPClassifier\n",
        "warnings.filterwarnings('ignore')"
      ],
      "execution_count": 0,
      "outputs": []
    },
    {
      "cell_type": "code",
      "metadata": {
        "id": "jZ7V6ijM8IyR",
        "colab_type": "code",
        "colab": {}
      },
      "source": [
        "#https://www.kaggle.com/aldemuro/comparing-ml-algorithms-train-accuracy-90\n",
        "MLA = [\n",
        "    #Ensemble Methods\n",
        "    ensemble.AdaBoostClassifier(),\n",
        "    ensemble.BaggingClassifier(),\n",
        "    ensemble.ExtraTreesClassifier(),\n",
        "    ensemble.GradientBoostingClassifier(),\n",
        "    ensemble.RandomForestClassifier(),\n",
        "\n",
        "    #Gaussian Processes\n",
        "    gaussian_process.GaussianProcessClassifier(),\n",
        "    \n",
        "    #GLM\n",
        "    linear_model.LogisticRegressionCV(),\n",
        "    linear_model.PassiveAggressiveClassifier(),\n",
        "    linear_model. RidgeClassifierCV(),\n",
        "    linear_model.SGDClassifier(),\n",
        "    linear_model.Perceptron(),\n",
        "    \n",
        "    #Navies Bayes\n",
        "    naive_bayes.BernoulliNB(),\n",
        "    naive_bayes.GaussianNB(),\n",
        "    \n",
        "    #Nearest Neighbor\n",
        "    neighbors.KNeighborsClassifier(),\n",
        "    \n",
        "    #SVM\n",
        "    svm.SVC(probability=True),\n",
        "    svm.NuSVC(probability=True),\n",
        "    svm.LinearSVC(),\n",
        "    \n",
        "    #Trees    \n",
        "    tree.DecisionTreeClassifier(),\n",
        "    tree.ExtraTreeClassifier(),\n",
        "    \n",
        "    #others\n",
        "    XGBClassifier(),              \n",
        "    LGBMClassifier(),             \n",
        "    CatBoostClassifier(),          \n",
        "    MLPClassifier()              \n",
        "    ]\n",
        "\n",
        "MLA_columns = []\n",
        "MLA_compare = pd.DataFrame(columns = MLA_columns)\n",
        "\n",
        "\n",
        "row_index = 0\n",
        "for alg in MLA:\n",
        "    \n",
        "    \n",
        "    predicted = alg.fit(X_train, y_train).predict(X_test)\n",
        "    fp, tp, th = roc_curve(y_test, predicted)\n",
        "    MLA_name = alg.__class__.__name__\n",
        "    MLA_compare.loc[row_index,'MLA Name'] = MLA_name\n",
        "    MLA_compare.loc[row_index, 'MLA Train Accuracy'] = round(alg.score(X_train, y_train), 4)\n",
        "    MLA_compare.loc[row_index, 'MLA Test Accuracy'] = round(alg.score(X_test, y_test), 4)\n",
        "    MLA_compare.loc[row_index, 'MLA Precission'] = precision_score(y_test, predicted)\n",
        "    MLA_compare.loc[row_index, 'MLA Recall'] = recall_score(y_test, predicted)\n",
        "    MLA_compare.loc[row_index, 'MLA AUC'] = auc(fp, tp)\n",
        "\n",
        "    row_index+=1\n",
        "    \n",
        "MLA_compare.sort_values(by = ['MLA AUC'], ascending = False, inplace = True)\n"
      ],
      "execution_count": 0,
      "outputs": []
    },
    {
      "cell_type": "code",
      "metadata": {
        "id": "wT5h8tTz8h5w",
        "colab_type": "code",
        "outputId": "d7d9ace1-0551-4e6b-f220-c2096a6349ef",
        "colab": {
          "base_uri": "https://localhost:8080/",
          "height": 166
        }
      },
      "source": [
        "MLA_compare"
      ],
      "execution_count": 0,
      "outputs": [
        {
          "output_type": "error",
          "ename": "NameError",
          "evalue": "ignored",
          "traceback": [
            "\u001b[0;31m---------------------------------------------------------------------------\u001b[0m",
            "\u001b[0;31mNameError\u001b[0m                                 Traceback (most recent call last)",
            "\u001b[0;32m<ipython-input-1-df22e2cf7a2e>\u001b[0m in \u001b[0;36m<module>\u001b[0;34m()\u001b[0m\n\u001b[0;32m----> 1\u001b[0;31m \u001b[0mMLA_compare\u001b[0m\u001b[0;34m\u001b[0m\u001b[0;34m\u001b[0m\u001b[0m\n\u001b[0m",
            "\u001b[0;31mNameError\u001b[0m: name 'MLA_compare' is not defined"
          ]
        }
      ]
    },
    {
      "cell_type": "code",
      "metadata": {
        "id": "8-On8qdxDb3y",
        "colab_type": "code",
        "colab": {}
      },
      "source": [
        ""
      ],
      "execution_count": 0,
      "outputs": []
    }
  ]
}